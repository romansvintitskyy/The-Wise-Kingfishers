{
  "nbformat": 4,
  "nbformat_minor": 0,
  "metadata": {
    "colab": {
      "provenance": [],
      "collapsed_sections": [
        "Oa_-lUHCkOEi",
        "aiV5ipKqmKzj",
        "_Ia3afFxtOyX",
        "6XsUeG6sxNwH",
        "crLqOF4ZySsC",
        "d8uyuiCT-uQK",
        "B4BR9pJA_JZ-",
        "yPZ_QNl9B55c",
        "2TV1umt9MNHE",
        "iWEk8toSMsh8",
        "72HQI-zaNVSV"
      ],
      "authorship_tag": "ABX9TyOqwSbLZgVPo8/1ziKJMtUy",
      "include_colab_link": true
    },
    "kernelspec": {
      "name": "python3",
      "display_name": "Python 3"
    },
    "language_info": {
      "name": "python"
    }
  },
  "cells": [
    {
      "cell_type": "markdown",
      "metadata": {
        "id": "view-in-github",
        "colab_type": "text"
      },
      "source": [
        "<a href=\"https://colab.research.google.com/github/romansvintitskyy/The-Wise-Kingfishers/blob/main/checkpoint_4.ipynb\" target=\"_parent\"><img src=\"https://colab.research.google.com/assets/colab-badge.svg\" alt=\"Open In Colab\"/></a>"
      ]
    },
    {
      "cell_type": "markdown",
      "source": [
        "# Checkpoint 4 Question 1: Predicting Policing Rates"
      ],
      "metadata": {
        "id": "obahi-N-kGtH"
      }
    },
    {
      "cell_type": "code",
      "source": [
        "#!pip install skforecast"
      ],
      "metadata": {
        "id": "1yhLbhreXrpW"
      },
      "execution_count": 162,
      "outputs": []
    },
    {
      "cell_type": "markdown",
      "source": [
        "## Importing Libraries\n"
      ],
      "metadata": {
        "id": "mhC424owTKI-"
      }
    },
    {
      "cell_type": "code",
      "source": [
        "import numpy as np\n",
        "import pandas as pd\n",
        "import matplotlib.pyplot as plt\n",
        "%matplotlib inline\n",
        "import seaborn as sns\n",
        "sns.set_style('whitegrid')\n",
        "plt.style.use('seaborn-deep')\n",
        "plt.rcParams['font.family'] = 'sans-serif'\n",
        "plt.rcParams['font.serif'] = 'Ubuntu'\n",
        "plt.rcParams['font.monospace'] = 'Ubuntu Mono'\n",
        "plt.rcParams['font.size'] = 10\n",
        "plt.rcParams['axes.labelsize'] = 12\n",
        "plt.rcParams['axes.titlesize'] = 12\n",
        "plt.rcParams['xtick.labelsize'] = 8\n",
        "plt.rcParams['ytick.labelsize'] = 8\n",
        "plt.rcParams['legend.fontsize'] = 12\n",
        "plt.rcParams['figure.titlesize'] = 14\n",
        "plt.rcParams['figure.figsize'] = (12, 8)\n",
        "\n",
        "pd.options.mode.chained_assignment = None\n",
        "pd.options.display.float_format = '{:.2f}'.format\n",
        "pd.set_option('display.max_columns', 200)\n",
        "pd.set_option('display.width', 400)\n",
        "import warnings\n",
        "warnings.filterwarnings('ignore')\n",
        "import sklearn.metrics as skm\n",
        "import sklearn.model_selection as skms\n",
        "import sklearn.preprocessing as skp\n",
        "import random\n",
        "seed = 12\n",
        "np.random.seed(seed)\n",
        "from sklearn.model_selection import train_test_split\n",
        "\n",
        "from datetime import date\n",
        "from scipy import stats\n",
        "\n",
        "from sklearn.feature_selection import RFE\n",
        "import sklearn.linear_model as sklm\n",
        "from skforecast.ForecasterAutoreg import ForecasterAutoreg\n",
        "from skforecast.ForecasterAutoregCustom import ForecasterAutoregCustom\n",
        "from skforecast.ForecasterAutoregDirect import ForecasterAutoregDirect\n",
        "from skforecast.model_selection import grid_search_forecaster\n",
        "from skforecast.model_selection import backtesting_forecaster\n",
        "from skforecast.utils import save_forecaster\n",
        "from skforecast.utils import load_forecaster"
      ],
      "metadata": {
        "id": "toQvAJAwTM-o"
      },
      "execution_count": 163,
      "outputs": []
    },
    {
      "cell_type": "markdown",
      "source": [
        "## Importing Data"
      ],
      "metadata": {
        "id": "vEDV0KiGTRUX"
      }
    },
    {
      "cell_type": "code",
      "source": [
        "ts = pd.read_csv(\"ts_data.csv\")"
      ],
      "metadata": {
        "id": "_KaSfIpDTUQx"
      },
      "execution_count": 164,
      "outputs": []
    },
    {
      "cell_type": "code",
      "source": [
        "ts.dtypes"
      ],
      "metadata": {
        "colab": {
          "base_uri": "https://localhost:8080/"
        },
        "id": "CFjpFEpgTas3",
        "outputId": "3f48265b-3ac8-4e08-b10d-da2fdfb06a2a"
      },
      "execution_count": 165,
      "outputs": [
        {
          "output_type": "execute_result",
          "data": {
            "text/plain": [
              "year                     int64\n",
              "south_cr_per_capita    float64\n",
              "north_cr_per_capita    float64\n",
              "north_police_count       int64\n",
              "south_police_count       int64\n",
              "dtype: object"
            ]
          },
          "metadata": {},
          "execution_count": 165
        }
      ]
    },
    {
      "cell_type": "code",
      "source": [
        "ts[\"year\"] = pd.to_datetime(ts[\"year\"], format=\"%Y\")\n",
        "ts = ts.set_index('year')\n",
        "ts = ts.asfreq('12MS')"
      ],
      "metadata": {
        "id": "ydk8lcJzoFpV"
      },
      "execution_count": 166,
      "outputs": []
    },
    {
      "cell_type": "code",
      "source": [
        "ts.dtypes"
      ],
      "metadata": {
        "colab": {
          "base_uri": "https://localhost:8080/"
        },
        "id": "x9QlLiZ7oKme",
        "outputId": "15453123-4d35-4d52-aed8-e06720cdcfe3"
      },
      "execution_count": 167,
      "outputs": [
        {
          "output_type": "execute_result",
          "data": {
            "text/plain": [
              "south_cr_per_capita    float64\n",
              "north_cr_per_capita    float64\n",
              "north_police_count       int64\n",
              "south_police_count       int64\n",
              "dtype: object"
            ]
          },
          "metadata": {},
          "execution_count": 167
        }
      ]
    },
    {
      "cell_type": "markdown",
      "source": [
        "## North"
      ],
      "metadata": {
        "id": "9TRAF0ly0VBc"
      }
    },
    {
      "cell_type": "code",
      "source": [
        "ts_north = ts.drop(columns=['south_cr_per_capita', 'south_police_count'])\n",
        "ts_north.head()\n"
      ],
      "metadata": {
        "colab": {
          "base_uri": "https://localhost:8080/",
          "height": 0
        },
        "id": "rkgN926wTdxJ",
        "outputId": "06a42e7a-478e-484a-d17e-af6367d35e39"
      },
      "execution_count": 168,
      "outputs": [
        {
          "output_type": "execute_result",
          "data": {
            "text/plain": [
              "            north_cr_per_capita  north_police_count\n",
              "year                                               \n",
              "2000-01-01                 0.00                2537\n",
              "2001-01-01                 0.00                2558\n",
              "2002-01-01                 0.00                2554\n",
              "2003-01-01                 0.00                2535\n",
              "2004-01-01                 0.00                2535"
            ],
            "text/html": [
              "\n",
              "  <div id=\"df-9eb441a3-81d5-4b5c-96eb-77523e9d3dac\">\n",
              "    <div class=\"colab-df-container\">\n",
              "      <div>\n",
              "<style scoped>\n",
              "    .dataframe tbody tr th:only-of-type {\n",
              "        vertical-align: middle;\n",
              "    }\n",
              "\n",
              "    .dataframe tbody tr th {\n",
              "        vertical-align: top;\n",
              "    }\n",
              "\n",
              "    .dataframe thead th {\n",
              "        text-align: right;\n",
              "    }\n",
              "</style>\n",
              "<table border=\"1\" class=\"dataframe\">\n",
              "  <thead>\n",
              "    <tr style=\"text-align: right;\">\n",
              "      <th></th>\n",
              "      <th>north_cr_per_capita</th>\n",
              "      <th>north_police_count</th>\n",
              "    </tr>\n",
              "    <tr>\n",
              "      <th>year</th>\n",
              "      <th></th>\n",
              "      <th></th>\n",
              "    </tr>\n",
              "  </thead>\n",
              "  <tbody>\n",
              "    <tr>\n",
              "      <th>2000-01-01</th>\n",
              "      <td>0.00</td>\n",
              "      <td>2537</td>\n",
              "    </tr>\n",
              "    <tr>\n",
              "      <th>2001-01-01</th>\n",
              "      <td>0.00</td>\n",
              "      <td>2558</td>\n",
              "    </tr>\n",
              "    <tr>\n",
              "      <th>2002-01-01</th>\n",
              "      <td>0.00</td>\n",
              "      <td>2554</td>\n",
              "    </tr>\n",
              "    <tr>\n",
              "      <th>2003-01-01</th>\n",
              "      <td>0.00</td>\n",
              "      <td>2535</td>\n",
              "    </tr>\n",
              "    <tr>\n",
              "      <th>2004-01-01</th>\n",
              "      <td>0.00</td>\n",
              "      <td>2535</td>\n",
              "    </tr>\n",
              "  </tbody>\n",
              "</table>\n",
              "</div>\n",
              "      <button class=\"colab-df-convert\" onclick=\"convertToInteractive('df-9eb441a3-81d5-4b5c-96eb-77523e9d3dac')\"\n",
              "              title=\"Convert this dataframe to an interactive table.\"\n",
              "              style=\"display:none;\">\n",
              "        \n",
              "  <svg xmlns=\"http://www.w3.org/2000/svg\" height=\"24px\"viewBox=\"0 0 24 24\"\n",
              "       width=\"24px\">\n",
              "    <path d=\"M0 0h24v24H0V0z\" fill=\"none\"/>\n",
              "    <path d=\"M18.56 5.44l.94 2.06.94-2.06 2.06-.94-2.06-.94-.94-2.06-.94 2.06-2.06.94zm-11 1L8.5 8.5l.94-2.06 2.06-.94-2.06-.94L8.5 2.5l-.94 2.06-2.06.94zm10 10l.94 2.06.94-2.06 2.06-.94-2.06-.94-.94-2.06-.94 2.06-2.06.94z\"/><path d=\"M17.41 7.96l-1.37-1.37c-.4-.4-.92-.59-1.43-.59-.52 0-1.04.2-1.43.59L10.3 9.45l-7.72 7.72c-.78.78-.78 2.05 0 2.83L4 21.41c.39.39.9.59 1.41.59.51 0 1.02-.2 1.41-.59l7.78-7.78 2.81-2.81c.8-.78.8-2.07 0-2.86zM5.41 20L4 18.59l7.72-7.72 1.47 1.35L5.41 20z\"/>\n",
              "  </svg>\n",
              "      </button>\n",
              "      \n",
              "  <style>\n",
              "    .colab-df-container {\n",
              "      display:flex;\n",
              "      flex-wrap:wrap;\n",
              "      gap: 12px;\n",
              "    }\n",
              "\n",
              "    .colab-df-convert {\n",
              "      background-color: #E8F0FE;\n",
              "      border: none;\n",
              "      border-radius: 50%;\n",
              "      cursor: pointer;\n",
              "      display: none;\n",
              "      fill: #1967D2;\n",
              "      height: 32px;\n",
              "      padding: 0 0 0 0;\n",
              "      width: 32px;\n",
              "    }\n",
              "\n",
              "    .colab-df-convert:hover {\n",
              "      background-color: #E2EBFA;\n",
              "      box-shadow: 0px 1px 2px rgba(60, 64, 67, 0.3), 0px 1px 3px 1px rgba(60, 64, 67, 0.15);\n",
              "      fill: #174EA6;\n",
              "    }\n",
              "\n",
              "    [theme=dark] .colab-df-convert {\n",
              "      background-color: #3B4455;\n",
              "      fill: #D2E3FC;\n",
              "    }\n",
              "\n",
              "    [theme=dark] .colab-df-convert:hover {\n",
              "      background-color: #434B5C;\n",
              "      box-shadow: 0px 1px 3px 1px rgba(0, 0, 0, 0.15);\n",
              "      filter: drop-shadow(0px 1px 2px rgba(0, 0, 0, 0.3));\n",
              "      fill: #FFFFFF;\n",
              "    }\n",
              "  </style>\n",
              "\n",
              "      <script>\n",
              "        const buttonEl =\n",
              "          document.querySelector('#df-9eb441a3-81d5-4b5c-96eb-77523e9d3dac button.colab-df-convert');\n",
              "        buttonEl.style.display =\n",
              "          google.colab.kernel.accessAllowed ? 'block' : 'none';\n",
              "\n",
              "        async function convertToInteractive(key) {\n",
              "          const element = document.querySelector('#df-9eb441a3-81d5-4b5c-96eb-77523e9d3dac');\n",
              "          const dataTable =\n",
              "            await google.colab.kernel.invokeFunction('convertToInteractive',\n",
              "                                                     [key], {});\n",
              "          if (!dataTable) return;\n",
              "\n",
              "          const docLinkHtml = 'Like what you see? Visit the ' +\n",
              "            '<a target=\"_blank\" href=https://colab.research.google.com/notebooks/data_table.ipynb>data table notebook</a>'\n",
              "            + ' to learn more about interactive tables.';\n",
              "          element.innerHTML = '';\n",
              "          dataTable['output_type'] = 'display_data';\n",
              "          await google.colab.output.renderOutput(dataTable, element);\n",
              "          const docLink = document.createElement('div');\n",
              "          docLink.innerHTML = docLinkHtml;\n",
              "          element.appendChild(docLink);\n",
              "        }\n",
              "      </script>\n",
              "    </div>\n",
              "  </div>\n",
              "  "
            ]
          },
          "metadata": {},
          "execution_count": 168
        }
      ]
    },
    {
      "cell_type": "code",
      "source": [
        "# the dataframe displays 0.00 due to rounding but the value is not 0\n",
        "ts_north.north_cr_per_capita[10]"
      ],
      "metadata": {
        "colab": {
          "base_uri": "https://localhost:8080/"
        },
        "id": "-6kTZWN1T8Rs",
        "outputId": "9701e6e9-44e5-450c-a7b6-80641990a58d"
      },
      "execution_count": 169,
      "outputs": [
        {
          "output_type": "execute_result",
          "data": {
            "text/plain": [
              "0.0019450143856034"
            ]
          },
          "metadata": {},
          "execution_count": 169
        }
      ]
    },
    {
      "cell_type": "code",
      "source": [
        "ts_north.dtypes"
      ],
      "metadata": {
        "colab": {
          "base_uri": "https://localhost:8080/"
        },
        "id": "3nNd1JnDlg20",
        "outputId": "82a0252a-4ea4-4ebd-9c0d-2b41c8b738db"
      },
      "execution_count": 170,
      "outputs": [
        {
          "output_type": "execute_result",
          "data": {
            "text/plain": [
              "north_cr_per_capita    float64\n",
              "north_police_count       int64\n",
              "dtype: object"
            ]
          },
          "metadata": {},
          "execution_count": 170
        }
      ]
    },
    {
      "cell_type": "code",
      "source": [
        "ts_north = ts_north.rename(columns={\"north_cr_per_capita\": \"north_cr_per_10k_people\"})"
      ],
      "metadata": {
        "id": "SqtzD7VrWzd5"
      },
      "execution_count": 171,
      "outputs": []
    },
    {
      "cell_type": "code",
      "source": [
        "ts_north[\"north_cr_per_10k_people\"] = 10000*ts_north[\"north_cr_per_10k_people\"].round(4)"
      ],
      "metadata": {
        "id": "SQIWt39CZrmw"
      },
      "execution_count": 172,
      "outputs": []
    },
    {
      "cell_type": "code",
      "source": [
        "ts_north.head(18)"
      ],
      "metadata": {
        "colab": {
          "base_uri": "https://localhost:8080/",
          "height": 0
        },
        "id": "3HNU80iAcJwK",
        "outputId": "88826d16-d35d-45e3-b5f8-adbde5c36ce7"
      },
      "execution_count": 173,
      "outputs": [
        {
          "output_type": "execute_result",
          "data": {
            "text/plain": [
              "            north_cr_per_10k_people  north_police_count\n",
              "year                                                   \n",
              "2000-01-01                    33.00                2537\n",
              "2001-01-01                    20.00                2558\n",
              "2002-01-01                    19.00                2554\n",
              "2003-01-01                    17.00                2535\n",
              "2004-01-01                    15.00                2535\n",
              "2005-01-01                    16.00                2524\n",
              "2006-01-01                    15.00                2543\n",
              "2007-01-01                    21.00                2504\n",
              "2008-01-01                    21.00                2444\n",
              "2009-01-01                    21.00                2378\n",
              "2010-01-01                    19.00                2318\n",
              "2011-01-01                    18.00                2211\n",
              "2012-01-01                    17.00                2164\n",
              "2013-01-01                    15.00                2130\n",
              "2014-01-01                    12.00                2135\n",
              "2015-01-01                    11.00                2152\n",
              "2016-01-01                    10.00                2155\n",
              "2017-01-01                     9.00                2063"
            ],
            "text/html": [
              "\n",
              "  <div id=\"df-8c72c010-087f-479f-a72a-8b19bf16302c\">\n",
              "    <div class=\"colab-df-container\">\n",
              "      <div>\n",
              "<style scoped>\n",
              "    .dataframe tbody tr th:only-of-type {\n",
              "        vertical-align: middle;\n",
              "    }\n",
              "\n",
              "    .dataframe tbody tr th {\n",
              "        vertical-align: top;\n",
              "    }\n",
              "\n",
              "    .dataframe thead th {\n",
              "        text-align: right;\n",
              "    }\n",
              "</style>\n",
              "<table border=\"1\" class=\"dataframe\">\n",
              "  <thead>\n",
              "    <tr style=\"text-align: right;\">\n",
              "      <th></th>\n",
              "      <th>north_cr_per_10k_people</th>\n",
              "      <th>north_police_count</th>\n",
              "    </tr>\n",
              "    <tr>\n",
              "      <th>year</th>\n",
              "      <th></th>\n",
              "      <th></th>\n",
              "    </tr>\n",
              "  </thead>\n",
              "  <tbody>\n",
              "    <tr>\n",
              "      <th>2000-01-01</th>\n",
              "      <td>33.00</td>\n",
              "      <td>2537</td>\n",
              "    </tr>\n",
              "    <tr>\n",
              "      <th>2001-01-01</th>\n",
              "      <td>20.00</td>\n",
              "      <td>2558</td>\n",
              "    </tr>\n",
              "    <tr>\n",
              "      <th>2002-01-01</th>\n",
              "      <td>19.00</td>\n",
              "      <td>2554</td>\n",
              "    </tr>\n",
              "    <tr>\n",
              "      <th>2003-01-01</th>\n",
              "      <td>17.00</td>\n",
              "      <td>2535</td>\n",
              "    </tr>\n",
              "    <tr>\n",
              "      <th>2004-01-01</th>\n",
              "      <td>15.00</td>\n",
              "      <td>2535</td>\n",
              "    </tr>\n",
              "    <tr>\n",
              "      <th>2005-01-01</th>\n",
              "      <td>16.00</td>\n",
              "      <td>2524</td>\n",
              "    </tr>\n",
              "    <tr>\n",
              "      <th>2006-01-01</th>\n",
              "      <td>15.00</td>\n",
              "      <td>2543</td>\n",
              "    </tr>\n",
              "    <tr>\n",
              "      <th>2007-01-01</th>\n",
              "      <td>21.00</td>\n",
              "      <td>2504</td>\n",
              "    </tr>\n",
              "    <tr>\n",
              "      <th>2008-01-01</th>\n",
              "      <td>21.00</td>\n",
              "      <td>2444</td>\n",
              "    </tr>\n",
              "    <tr>\n",
              "      <th>2009-01-01</th>\n",
              "      <td>21.00</td>\n",
              "      <td>2378</td>\n",
              "    </tr>\n",
              "    <tr>\n",
              "      <th>2010-01-01</th>\n",
              "      <td>19.00</td>\n",
              "      <td>2318</td>\n",
              "    </tr>\n",
              "    <tr>\n",
              "      <th>2011-01-01</th>\n",
              "      <td>18.00</td>\n",
              "      <td>2211</td>\n",
              "    </tr>\n",
              "    <tr>\n",
              "      <th>2012-01-01</th>\n",
              "      <td>17.00</td>\n",
              "      <td>2164</td>\n",
              "    </tr>\n",
              "    <tr>\n",
              "      <th>2013-01-01</th>\n",
              "      <td>15.00</td>\n",
              "      <td>2130</td>\n",
              "    </tr>\n",
              "    <tr>\n",
              "      <th>2014-01-01</th>\n",
              "      <td>12.00</td>\n",
              "      <td>2135</td>\n",
              "    </tr>\n",
              "    <tr>\n",
              "      <th>2015-01-01</th>\n",
              "      <td>11.00</td>\n",
              "      <td>2152</td>\n",
              "    </tr>\n",
              "    <tr>\n",
              "      <th>2016-01-01</th>\n",
              "      <td>10.00</td>\n",
              "      <td>2155</td>\n",
              "    </tr>\n",
              "    <tr>\n",
              "      <th>2017-01-01</th>\n",
              "      <td>9.00</td>\n",
              "      <td>2063</td>\n",
              "    </tr>\n",
              "  </tbody>\n",
              "</table>\n",
              "</div>\n",
              "      <button class=\"colab-df-convert\" onclick=\"convertToInteractive('df-8c72c010-087f-479f-a72a-8b19bf16302c')\"\n",
              "              title=\"Convert this dataframe to an interactive table.\"\n",
              "              style=\"display:none;\">\n",
              "        \n",
              "  <svg xmlns=\"http://www.w3.org/2000/svg\" height=\"24px\"viewBox=\"0 0 24 24\"\n",
              "       width=\"24px\">\n",
              "    <path d=\"M0 0h24v24H0V0z\" fill=\"none\"/>\n",
              "    <path d=\"M18.56 5.44l.94 2.06.94-2.06 2.06-.94-2.06-.94-.94-2.06-.94 2.06-2.06.94zm-11 1L8.5 8.5l.94-2.06 2.06-.94-2.06-.94L8.5 2.5l-.94 2.06-2.06.94zm10 10l.94 2.06.94-2.06 2.06-.94-2.06-.94-.94-2.06-.94 2.06-2.06.94z\"/><path d=\"M17.41 7.96l-1.37-1.37c-.4-.4-.92-.59-1.43-.59-.52 0-1.04.2-1.43.59L10.3 9.45l-7.72 7.72c-.78.78-.78 2.05 0 2.83L4 21.41c.39.39.9.59 1.41.59.51 0 1.02-.2 1.41-.59l7.78-7.78 2.81-2.81c.8-.78.8-2.07 0-2.86zM5.41 20L4 18.59l7.72-7.72 1.47 1.35L5.41 20z\"/>\n",
              "  </svg>\n",
              "      </button>\n",
              "      \n",
              "  <style>\n",
              "    .colab-df-container {\n",
              "      display:flex;\n",
              "      flex-wrap:wrap;\n",
              "      gap: 12px;\n",
              "    }\n",
              "\n",
              "    .colab-df-convert {\n",
              "      background-color: #E8F0FE;\n",
              "      border: none;\n",
              "      border-radius: 50%;\n",
              "      cursor: pointer;\n",
              "      display: none;\n",
              "      fill: #1967D2;\n",
              "      height: 32px;\n",
              "      padding: 0 0 0 0;\n",
              "      width: 32px;\n",
              "    }\n",
              "\n",
              "    .colab-df-convert:hover {\n",
              "      background-color: #E2EBFA;\n",
              "      box-shadow: 0px 1px 2px rgba(60, 64, 67, 0.3), 0px 1px 3px 1px rgba(60, 64, 67, 0.15);\n",
              "      fill: #174EA6;\n",
              "    }\n",
              "\n",
              "    [theme=dark] .colab-df-convert {\n",
              "      background-color: #3B4455;\n",
              "      fill: #D2E3FC;\n",
              "    }\n",
              "\n",
              "    [theme=dark] .colab-df-convert:hover {\n",
              "      background-color: #434B5C;\n",
              "      box-shadow: 0px 1px 3px 1px rgba(0, 0, 0, 0.15);\n",
              "      filter: drop-shadow(0px 1px 2px rgba(0, 0, 0, 0.3));\n",
              "      fill: #FFFFFF;\n",
              "    }\n",
              "  </style>\n",
              "\n",
              "      <script>\n",
              "        const buttonEl =\n",
              "          document.querySelector('#df-8c72c010-087f-479f-a72a-8b19bf16302c button.colab-df-convert');\n",
              "        buttonEl.style.display =\n",
              "          google.colab.kernel.accessAllowed ? 'block' : 'none';\n",
              "\n",
              "        async function convertToInteractive(key) {\n",
              "          const element = document.querySelector('#df-8c72c010-087f-479f-a72a-8b19bf16302c');\n",
              "          const dataTable =\n",
              "            await google.colab.kernel.invokeFunction('convertToInteractive',\n",
              "                                                     [key], {});\n",
              "          if (!dataTable) return;\n",
              "\n",
              "          const docLinkHtml = 'Like what you see? Visit the ' +\n",
              "            '<a target=\"_blank\" href=https://colab.research.google.com/notebooks/data_table.ipynb>data table notebook</a>'\n",
              "            + ' to learn more about interactive tables.';\n",
              "          element.innerHTML = '';\n",
              "          dataTable['output_type'] = 'display_data';\n",
              "          await google.colab.output.renderOutput(dataTable, element);\n",
              "          const docLink = document.createElement('div');\n",
              "          docLink.innerHTML = docLinkHtml;\n",
              "          element.appendChild(docLink);\n",
              "        }\n",
              "      </script>\n",
              "    </div>\n",
              "  </div>\n",
              "  "
            ]
          },
          "metadata": {},
          "execution_count": 173
        }
      ]
    },
    {
      "cell_type": "code",
      "source": [
        "ts_north.index"
      ],
      "metadata": {
        "colab": {
          "base_uri": "https://localhost:8080/"
        },
        "id": "nnhxDMLEoXxD",
        "outputId": "715e65e9-df68-4e5e-c28e-29de602581c9"
      },
      "execution_count": 174,
      "outputs": [
        {
          "output_type": "execute_result",
          "data": {
            "text/plain": [
              "DatetimeIndex(['2000-01-01', '2001-01-01', '2002-01-01', '2003-01-01', '2004-01-01', '2005-01-01', '2006-01-01', '2007-01-01', '2008-01-01', '2009-01-01', '2010-01-01', '2011-01-01', '2012-01-01', '2013-01-01', '2014-01-01', '2015-01-01', '2016-01-01', '2017-01-01', '2018-01-01'], dtype='datetime64[ns]', name='year', freq='12MS')"
            ]
          },
          "metadata": {},
          "execution_count": 174
        }
      ]
    },
    {
      "cell_type": "code",
      "source": [
        "train_north = ts_north[ts_north.index <= '2014-01-01']\n",
        "test_north = ts_north[ts_north.index > '2014-01-01']"
      ],
      "metadata": {
        "id": "9imTp6GqXMJK"
      },
      "execution_count": 175,
      "outputs": []
    },
    {
      "cell_type": "code",
      "source": [
        "(train_north.shape, test_north.shape)"
      ],
      "metadata": {
        "colab": {
          "base_uri": "https://localhost:8080/"
        },
        "id": "4Yu658s3Xbuq",
        "outputId": "88b4a459-4262-4547-d904-8da32d8e4f74"
      },
      "execution_count": 176,
      "outputs": [
        {
          "output_type": "execute_result",
          "data": {
            "text/plain": [
              "((15, 2), (4, 2))"
            ]
          },
          "metadata": {},
          "execution_count": 176
        }
      ]
    },
    {
      "cell_type": "code",
      "source": [
        "train_north.north_cr_per_10k_people[13]"
      ],
      "metadata": {
        "colab": {
          "base_uri": "https://localhost:8080/"
        },
        "id": "fbUhyAaGgOsZ",
        "outputId": "1580471e-7f3e-4485-99ae-aef6fbec326d"
      },
      "execution_count": 177,
      "outputs": [
        {
          "output_type": "execute_result",
          "data": {
            "text/plain": [
              "15.0"
            ]
          },
          "metadata": {},
          "execution_count": 177
        }
      ]
    },
    {
      "cell_type": "code",
      "source": [
        "train_north.north_cr_per_10k_people = np.asarray(train_north.north_cr_per_10k_people)\n",
        "train_north.north_police_count = np.asarray(train_north.north_police_count)\n",
        "test_north.north_cr_per_10k_people = np.asarray(test_north.north_cr_per_10k_people)\n",
        "test_north.north_police_count = np.asarray(test_north.north_police_count)\n"
      ],
      "metadata": {
        "id": "dQqM6wA5eZGb"
      },
      "execution_count": 178,
      "outputs": []
    },
    {
      "cell_type": "code",
      "source": [
        "fig, ax = plt.subplots(figsize=(20, 11))\n",
        "ax.plot(train_north['north_police_count'])\n",
        "ax.set_xlabel('Year')\n",
        "ax.set_ylabel('Number of Police Officers in th North of Chicago')\n",
        "fig.autofmt_xdate()\n",
        "plt.tight_layout()\n"
      ],
      "metadata": {
        "colab": {
          "base_uri": "https://localhost:8080/",
          "height": 0
        },
        "id": "D9FV-INEXgu4",
        "outputId": "989c4c9c-c43a-43ed-980e-5beee41e2b0c"
      },
      "execution_count": 179,
      "outputs": [
        {
          "output_type": "display_data",
          "data": {
            "text/plain": [
              "<Figure size 1440x792 with 1 Axes>"
            ],
            "image/png": "[encoded data removed]"
          },
          "metadata": {}
        }
      ]
    },
    {
      "cell_type": "code",
      "source": [],
      "metadata": {
        "id": "bpte14J8Y3ZL"
      },
      "execution_count": 179,
      "outputs": []
    },
    {
      "cell_type": "code",
      "source": [
        "# Split data into train-test\n",
        "# ==============================================================================\n",
        "train_north = ts_north[ts_north.index <= '2014-01-01']\n",
        "test_north = ts_north[ts_north.index > '2014-01-01']\n",
        "\n",
        "print(f\"Train dates : {train_north.index.min()} --- {train_north.index.max()}  (n={len(train_north)})\")\n",
        "print(f\"Test dates  : {test_north.index.min()} --- {test_north.index.max()}  (n={len(test_north)})\")\n",
        "\n",
        "fig, ax=plt.subplots(figsize=(9, 4))\n",
        "train_north['north_police_count'].plot(ax=ax, label='train')\n",
        "test_north['north_police_count'].plot(ax=ax, label='test')\n",
        "ax.legend();"
      ],
      "metadata": {
        "colab": {
          "base_uri": "https://localhost:8080/",
          "height": 0
        },
        "id": "tpK6Q4vGnviL",
        "outputId": "40f5185b-3c6d-43ed-b615-e65e731599fd"
      },
      "execution_count": 180,
      "outputs": [
        {
          "output_type": "stream",
          "name": "stdout",
          "text": [
            "Train dates : 2000-01-01 00:00:00 --- 2014-01-01 00:00:00  (n=15)\n",
            "Test dates  : 2015-01-01 00:00:00 --- 2018-01-01 00:00:00  (n=4)\n"
          ]
        },
        {
          "output_type": "display_data",
          "data": {
            "text/plain": [
              "<Figure size 648x288 with 1 Axes>"
            ],
            "image/png": "[encoded data removed]"
          },
          "metadata": {}
        }
      ]
    },
    {
      "cell_type": "code",
      "source": [],
      "metadata": {
        "id": "n-oYbECpstJy"
      },
      "execution_count": 180,
      "outputs": []
    },
    {
      "cell_type": "code",
      "source": [
        "# Create and train forecaster\n",
        "# ==============================================================================\n",
        "from sklearn.ensemble import RandomForestRegressor\n",
        "forecaster = ForecasterAutoreg(\n",
        "                regressor = RandomForestRegressor(random_state=123),\n",
        "                lags      = 6\n",
        "             )\n",
        "\n",
        "forecaster.fit(y=train_north['north_police_count'])\n",
        "forecaster"
      ],
      "metadata": {
        "colab": {
          "base_uri": "https://localhost:8080/"
        },
        "id": "C_gEw-Flnpn4",
        "outputId": "9874e253-d791-4069-b2b4-faec2859b403"
      },
      "execution_count": 181,
      "outputs": [
        {
          "output_type": "execute_result",
          "data": {
            "text/plain": [
              "================= \n",
              "ForecasterAutoreg \n",
              "================= \n",
              "Regressor: RandomForestRegressor(random_state=123) \n",
              "Lags: [1 2 3 4 5 6] \n",
              "Transformer for y: None \n",
              "Transformer for exog: None \n",
              "Window size: 6 \n",
              "Included exogenous: False \n",
              "Type of exogenous variable: None \n",
              "Exogenous variables names: None \n",
              "Training range: [Timestamp('2000-01-01 00:00:00'), Timestamp('2014-01-01 00:00:00')] \n",
              "Training index type: DatetimeIndex \n",
              "Training index frequency: 12MS \n",
              "Regressor parameters: {'bootstrap': True, 'ccp_alpha': 0.0, 'criterion': 'squared_error', 'max_depth': None, 'max_features': 'auto', 'max_leaf_nodes': None, 'max_samples': None, 'min_impurity_decrease': 0.0, 'min_samples_leaf': 1, 'min_samples_split': 2, 'min_weight_fraction_leaf': 0.0, 'n_estimators': 100, 'n_jobs': None, 'oob_score': False, 'random_state': 123, 'verbose': 0, 'warm_start': False} \n",
              "Creation date: 2022-11-18 08:37:35 \n",
              "Last fit date: 2022-11-18 08:37:35 \n",
              "Skforecast version: 0.5.1 \n",
              "Python version: 3.7.15 "
            ]
          },
          "metadata": {},
          "execution_count": 181
        }
      ]
    },
    {
      "cell_type": "code",
      "source": [
        "# Predictions\n",
        "# ==============================================================================\n",
        "steps = 4\n",
        "predictions = forecaster.predict(steps=steps)\n",
        "predictions.head()"
      ],
      "metadata": {
        "colab": {
          "base_uri": "https://localhost:8080/"
        },
        "id": "gAAPWkkSttQR",
        "outputId": "eb62ae0b-178e-4eb2-fe00-43abbe89105f"
      },
      "execution_count": 182,
      "outputs": [
        {
          "output_type": "execute_result",
          "data": {
            "text/plain": [
              "2015-01-01   2140.35\n",
              "2016-01-01   2140.35\n",
              "2017-01-01   2140.35\n",
              "2018-01-01   2140.35\n",
              "Freq: 12MS, Name: pred, dtype: float64"
            ]
          },
          "metadata": {},
          "execution_count": 182
        }
      ]
    },
    {
      "cell_type": "code",
      "source": [
        "# Plot\n",
        "# ==============================================================================\n",
        "fig, ax = plt.subplots(figsize=(9, 4))\n",
        "train_north['north_police_count'].plot(ax=ax, label='train')\n",
        "test_north['north_police_count'].plot(ax=ax, label='test')\n",
        "predictions.plot(ax=ax, label='predictions')\n",
        "ax.legend();"
      ],
      "metadata": {
        "colab": {
          "base_uri": "https://localhost:8080/",
          "height": 0
        },
        "id": "TvQtmZPruDpn",
        "outputId": "b4f308c8-349d-4d57-8dec-3f39cca022ee"
      },
      "execution_count": 183,
      "outputs": [
        {
          "output_type": "display_data",
          "data": {
            "text/plain": [
              "<Figure size 648x288 with 1 Axes>"
            ],
            "image/png": "[encoded data removed]"
          },
          "metadata": {}
        }
      ]
    },
    {
      "cell_type": "code",
      "source": [
        "predictions"
      ],
      "metadata": {
        "colab": {
          "base_uri": "https://localhost:8080/"
        },
        "id": "UeXbBzp-wT8x",
        "outputId": "b4bafff5-0d5c-4f8f-ca2f-07f22b18daeb"
      },
      "execution_count": 184,
      "outputs": [
        {
          "output_type": "execute_result",
          "data": {
            "text/plain": [
              "2015-01-01   2140.35\n",
              "2016-01-01   2140.35\n",
              "2017-01-01   2140.35\n",
              "2018-01-01   2140.35\n",
              "Freq: 12MS, Name: pred, dtype: float64"
            ]
          },
          "metadata": {},
          "execution_count": 184
        }
      ]
    },
    {
      "cell_type": "code",
      "source": [
        "# Test error\n",
        "# ==============================================================================\n",
        "from sklearn.metrics import mean_squared_error\n",
        "error_mse = mean_squared_error(\n",
        "                y_true = test_north['north_police_count'],\n",
        "                y_pred = predictions\n",
        "            )\n",
        "\n",
        "print(f\"Test error (mse): {error_mse}\")"
      ],
      "metadata": {
        "colab": {
          "base_uri": "https://localhost:8080/"
        },
        "id": "i9YZ6wbguv2C",
        "outputId": "9de63a7e-ebc1-4799-aa7d-67ae8a1de0b3"
      },
      "execution_count": 185,
      "outputs": [
        {
          "output_type": "stream",
          "name": "stdout",
          "text": [
            "Test error (mse): 8501.42249999999\n"
          ]
        }
      ]
    },
    {
      "cell_type": "code",
      "source": [
        "train_north.shape"
      ],
      "metadata": {
        "colab": {
          "base_uri": "https://localhost:8080/"
        },
        "id": "b_3kAYsDxtEM",
        "outputId": "afac6e71-a99e-42aa-f079-b1e8ebd2abd1"
      },
      "execution_count": 186,
      "outputs": [
        {
          "output_type": "execute_result",
          "data": {
            "text/plain": [
              "(15, 2)"
            ]
          },
          "metadata": {},
          "execution_count": 186
        }
      ]
    },
    {
      "cell_type": "code",
      "source": [
        "# Hyperparameter Grid search\n",
        "# ==============================================================================\n",
        "steps = 1\n",
        "forecaster = ForecasterAutoreg(\n",
        "                regressor = RandomForestRegressor(random_state=123),\n",
        "                lags      = 1 # This value will be replaced in the grid search\n",
        "             )\n",
        "\n",
        "# Lags used as predictors\n",
        "lags_grid = [3, 5]\n",
        "\n",
        "# Regressor's hyperparameters\n",
        "param_grid = {'n_estimators': [100, 300, 500],\n",
        "              'max_depth': [3, 5, 10]}\n",
        "\n",
        "results_grid = grid_search_forecaster(\n",
        "                        forecaster         = forecaster,\n",
        "                        y                  = train_north['north_police_count'],\n",
        "                        param_grid         = param_grid,\n",
        "                        lags_grid          = lags_grid,\n",
        "                        steps              = steps,\n",
        "                        refit              = True,\n",
        "                        metric             = 'mean_squared_error',\n",
        "                        initial_train_size = 10,\n",
        "                        fixed_train_size   = False,\n",
        "                        return_best        = True,\n",
        "                        verbose            = False\n",
        "               )"
      ],
      "metadata": {
        "colab": {
          "base_uri": "https://localhost:8080/"
        },
        "id": "AFe9TBprw3Rr",
        "outputId": "15be7ff6-995e-4704-ac11-2d44b12b83eb"
      },
      "execution_count": 187,
      "outputs": [
        {
          "output_type": "stream",
          "name": "stdout",
          "text": [
            "Number of models compared: 18.\n"
          ]
        },
        {
          "output_type": "stream",
          "name": "stderr",
          "text": [
            "loop lags_grid:   0%|                                               | 0/2 [00:00<?, ?it/s]\n",
            "loop param_grid:   0%|                                              | 0/9 [00:00<?, ?it/s]\u001b[A\n",
            "loop param_grid:  11%|████▏                                 | 1/9 [00:00<00:05,  1.41it/s]\u001b[A\n",
            "loop param_grid:  22%|████████▍                             | 2/9 [00:02<00:09,  1.41s/it]\u001b[A\n",
            "loop param_grid:  33%|████████████▋                         | 3/9 [00:05<00:12,  2.15s/it]\u001b[A\n",
            "loop param_grid:  44%|████████████████▉                     | 4/9 [00:06<00:07,  1.56s/it]\u001b[A\n",
            "loop param_grid:  56%|█████████████████████                 | 5/9 [00:08<00:06,  1.66s/it]\u001b[A\n",
            "loop param_grid:  67%|█████████████████████████▎            | 6/9 [00:11<00:06,  2.15s/it]\u001b[A\n",
            "loop param_grid:  78%|█████████████████████████████▌        | 7/9 [00:11<00:03,  1.66s/it]\u001b[A\n",
            "loop param_grid:  89%|█████████████████████████████████▊    | 8/9 [00:13<00:01,  1.72s/it]\u001b[A\n",
            "loop param_grid: 100%|██████████████████████████████████████| 9/9 [00:16<00:00,  2.13s/it]\u001b[A\n",
            "loop lags_grid:  50%|███████████████████▌                   | 1/2 [00:16<00:16, 16.80s/it]\n",
            "loop param_grid:   0%|                                              | 0/9 [00:00<?, ?it/s]\u001b[A\n",
            "loop param_grid:  11%|████▏                                 | 1/9 [00:00<00:05,  1.53it/s]\u001b[A\n",
            "loop param_grid:  22%|████████▍                             | 2/9 [00:02<00:09,  1.42s/it]\u001b[A\n",
            "loop param_grid:  33%|████████████▋                         | 3/9 [00:07<00:19,  3.21s/it]\u001b[A\n",
            "loop param_grid:  44%|████████████████▉                     | 4/9 [00:09<00:11,  2.40s/it]\u001b[A\n",
            "loop param_grid:  56%|█████████████████████                 | 5/9 [00:12<00:10,  2.65s/it]\u001b[A\n",
            "loop param_grid:  67%|█████████████████████████▎            | 6/9 [00:15<00:08,  2.80s/it]\u001b[A\n",
            "loop param_grid:  78%|█████████████████████████████▌        | 7/9 [00:15<00:04,  2.11s/it]\u001b[A\n",
            "loop param_grid:  89%|█████████████████████████████████▊    | 8/9 [00:17<00:02,  2.02s/it]\u001b[A\n",
            "loop param_grid: 100%|██████████████████████████████████████| 9/9 [00:20<00:00,  2.36s/it]\u001b[A\n",
            "loop lags_grid: 100%|███████████████████████████████████████| 2/2 [00:37<00:00, 18.87s/it]"
          ]
        },
        {
          "output_type": "stream",
          "name": "stdout",
          "text": [
            "`Forecaster` refitted using the best-found lags and parameters, and the whole data set: \n",
            "  Lags: [1 2 3] \n",
            "  Parameters: {'max_depth': 5, 'n_estimators': 100}\n",
            "  Backtesting metric: 7672.044419999996\n",
            "\n"
          ]
        },
        {
          "output_type": "stream",
          "name": "stderr",
          "text": [
            "\n"
          ]
        }
      ]
    },
    {
      "cell_type": "code",
      "source": [
        "# Create and train forecaster with the best hyperparameters\n",
        "# ==============================================================================\n",
        "regressor = RandomForestRegressor(max_depth=5, n_estimators=100, random_state=123)\n",
        "forecaster = ForecasterAutoreg(\n",
        "                regressor = regressor,\n",
        "                lags      = 3\n",
        "             )\n",
        "\n",
        "forecaster.fit(y=train_north['north_police_count'])"
      ],
      "metadata": {
        "id": "JSwFVfAJyrmZ"
      },
      "execution_count": 188,
      "outputs": []
    },
    {
      "cell_type": "code",
      "source": [
        "# Predictions\n",
        "# ==============================================================================\n",
        "steps = 4\n",
        "predictions = forecaster.predict(steps=steps)\n",
        "predictions"
      ],
      "metadata": {
        "colab": {
          "base_uri": "https://localhost:8080/"
        },
        "id": "wbT6fUkMy6bK",
        "outputId": "3ccbd12a-a185-46ca-ab0a-89db57a80bfd"
      },
      "execution_count": 189,
      "outputs": [
        {
          "output_type": "execute_result",
          "data": {
            "text/plain": [
              "2015-01-01   2135.84\n",
              "2016-01-01   2135.84\n",
              "2017-01-01   2135.84\n",
              "2018-01-01   2135.84\n",
              "Freq: 12MS, Name: pred, dtype: float64"
            ]
          },
          "metadata": {},
          "execution_count": 189
        }
      ]
    },
    {
      "cell_type": "code",
      "source": [
        "\n",
        "# Plot\n",
        "# ==============================================================================\n",
        "fig, ax = plt.subplots(figsize=(9, 4))\n",
        "train_north['north_police_count'].plot(ax=ax, label='train')\n",
        "test_north['north_police_count'].plot(ax=ax, label='test')\n",
        "predictions.plot(ax=ax, label='predictions')\n",
        "ax.legend();"
      ],
      "metadata": {
        "colab": {
          "base_uri": "https://localhost:8080/",
          "height": 0
        },
        "id": "MQQHH4J4y-zT",
        "outputId": "be2fbece-e22a-4ad3-d3ee-3f0d98deeb18"
      },
      "execution_count": 190,
      "outputs": [
        {
          "output_type": "display_data",
          "data": {
            "text/plain": [
              "<Figure size 648x288 with 1 Axes>"
            ],
            "image/png": "[encoded data removed]"
          },
          "metadata": {}
        }
      ]
    },
    {
      "cell_type": "markdown",
      "source": [
        "## South"
      ],
      "metadata": {
        "id": "mKaYnvba0je1"
      }
    },
    {
      "cell_type": "code",
      "source": [
        "ts_south = ts.drop(columns=['north_cr_per_capita', 'north_police_count'])\n",
        "ts_south.head()"
      ],
      "metadata": {
        "colab": {
          "base_uri": "https://localhost:8080/",
          "height": 0
        },
        "id": "zrKsHC6ozhsw",
        "outputId": "4ccf4146-4b2a-4c97-e57f-b7e3b20b115a"
      },
      "execution_count": 191,
      "outputs": [
        {
          "output_type": "execute_result",
          "data": {
            "text/plain": [
              "            south_cr_per_capita  south_police_count\n",
              "year                                               \n",
              "2000-01-01                 0.00                3090\n",
              "2001-01-01                 0.00                3096\n",
              "2002-01-01                 0.00                3110\n",
              "2003-01-01                 0.00                3098\n",
              "2004-01-01                 0.00                3098"
            ],
            "text/html": [
              "\n",
              "  <div id=\"df-7476dc68-631f-40be-8a3d-4dee38d35eaf\">\n",
              "    <div class=\"colab-df-container\">\n",
              "      <div>\n",
              "<style scoped>\n",
              "    .dataframe tbody tr th:only-of-type {\n",
              "        vertical-align: middle;\n",
              "    }\n",
              "\n",
              "    .dataframe tbody tr th {\n",
              "        vertical-align: top;\n",
              "    }\n",
              "\n",
              "    .dataframe thead th {\n",
              "        text-align: right;\n",
              "    }\n",
              "</style>\n",
              "<table border=\"1\" class=\"dataframe\">\n",
              "  <thead>\n",
              "    <tr style=\"text-align: right;\">\n",
              "      <th></th>\n",
              "      <th>south_cr_per_capita</th>\n",
              "      <th>south_police_count</th>\n",
              "    </tr>\n",
              "    <tr>\n",
              "      <th>year</th>\n",
              "      <th></th>\n",
              "      <th></th>\n",
              "    </tr>\n",
              "  </thead>\n",
              "  <tbody>\n",
              "    <tr>\n",
              "      <th>2000-01-01</th>\n",
              "      <td>0.00</td>\n",
              "      <td>3090</td>\n",
              "    </tr>\n",
              "    <tr>\n",
              "      <th>2001-01-01</th>\n",
              "      <td>0.00</td>\n",
              "      <td>3096</td>\n",
              "    </tr>\n",
              "    <tr>\n",
              "      <th>2002-01-01</th>\n",
              "      <td>0.00</td>\n",
              "      <td>3110</td>\n",
              "    </tr>\n",
              "    <tr>\n",
              "      <th>2003-01-01</th>\n",
              "      <td>0.00</td>\n",
              "      <td>3098</td>\n",
              "    </tr>\n",
              "    <tr>\n",
              "      <th>2004-01-01</th>\n",
              "      <td>0.00</td>\n",
              "      <td>3098</td>\n",
              "    </tr>\n",
              "  </tbody>\n",
              "</table>\n",
              "</div>\n",
              "      <button class=\"colab-df-convert\" onclick=\"convertToInteractive('df-7476dc68-631f-40be-8a3d-4dee38d35eaf')\"\n",
              "              title=\"Convert this dataframe to an interactive table.\"\n",
              "              style=\"display:none;\">\n",
              "        \n",
              "  <svg xmlns=\"http://www.w3.org/2000/svg\" height=\"24px\"viewBox=\"0 0 24 24\"\n",
              "       width=\"24px\">\n",
              "    <path d=\"M0 0h24v24H0V0z\" fill=\"none\"/>\n",
              "    <path d=\"M18.56 5.44l.94 2.06.94-2.06 2.06-.94-2.06-.94-.94-2.06-.94 2.06-2.06.94zm-11 1L8.5 8.5l.94-2.06 2.06-.94-2.06-.94L8.5 2.5l-.94 2.06-2.06.94zm10 10l.94 2.06.94-2.06 2.06-.94-2.06-.94-.94-2.06-.94 2.06-2.06.94z\"/><path d=\"M17.41 7.96l-1.37-1.37c-.4-.4-.92-.59-1.43-.59-.52 0-1.04.2-1.43.59L10.3 9.45l-7.72 7.72c-.78.78-.78 2.05 0 2.83L4 21.41c.39.39.9.59 1.41.59.51 0 1.02-.2 1.41-.59l7.78-7.78 2.81-2.81c.8-.78.8-2.07 0-2.86zM5.41 20L4 18.59l7.72-7.72 1.47 1.35L5.41 20z\"/>\n",
              "  </svg>\n",
              "      </button>\n",
              "      \n",
              "  <style>\n",
              "    .colab-df-container {\n",
              "      display:flex;\n",
              "      flex-wrap:wrap;\n",
              "      gap: 12px;\n",
              "    }\n",
              "\n",
              "    .colab-df-convert {\n",
              "      background-color: #E8F0FE;\n",
              "      border: none;\n",
              "      border-radius: 50%;\n",
              "      cursor: pointer;\n",
              "      display: none;\n",
              "      fill: #1967D2;\n",
              "      height: 32px;\n",
              "      padding: 0 0 0 0;\n",
              "      width: 32px;\n",
              "    }\n",
              "\n",
              "    .colab-df-convert:hover {\n",
              "      background-color: #E2EBFA;\n",
              "      box-shadow: 0px 1px 2px rgba(60, 64, 67, 0.3), 0px 1px 3px 1px rgba(60, 64, 67, 0.15);\n",
              "      fill: #174EA6;\n",
              "    }\n",
              "\n",
              "    [theme=dark] .colab-df-convert {\n",
              "      background-color: #3B4455;\n",
              "      fill: #D2E3FC;\n",
              "    }\n",
              "\n",
              "    [theme=dark] .colab-df-convert:hover {\n",
              "      background-color: #434B5C;\n",
              "      box-shadow: 0px 1px 3px 1px rgba(0, 0, 0, 0.15);\n",
              "      filter: drop-shadow(0px 1px 2px rgba(0, 0, 0, 0.3));\n",
              "      fill: #FFFFFF;\n",
              "    }\n",
              "  </style>\n",
              "\n",
              "      <script>\n",
              "        const buttonEl =\n",
              "          document.querySelector('#df-7476dc68-631f-40be-8a3d-4dee38d35eaf button.colab-df-convert');\n",
              "        buttonEl.style.display =\n",
              "          google.colab.kernel.accessAllowed ? 'block' : 'none';\n",
              "\n",
              "        async function convertToInteractive(key) {\n",
              "          const element = document.querySelector('#df-7476dc68-631f-40be-8a3d-4dee38d35eaf');\n",
              "          const dataTable =\n",
              "            await google.colab.kernel.invokeFunction('convertToInteractive',\n",
              "                                                     [key], {});\n",
              "          if (!dataTable) return;\n",
              "\n",
              "          const docLinkHtml = 'Like what you see? Visit the ' +\n",
              "            '<a target=\"_blank\" href=https://colab.research.google.com/notebooks/data_table.ipynb>data table notebook</a>'\n",
              "            + ' to learn more about interactive tables.';\n",
              "          element.innerHTML = '';\n",
              "          dataTable['output_type'] = 'display_data';\n",
              "          await google.colab.output.renderOutput(dataTable, element);\n",
              "          const docLink = document.createElement('div');\n",
              "          docLink.innerHTML = docLinkHtml;\n",
              "          element.appendChild(docLink);\n",
              "        }\n",
              "      </script>\n",
              "    </div>\n",
              "  </div>\n",
              "  "
            ]
          },
          "metadata": {},
          "execution_count": 191
        }
      ]
    },
    {
      "cell_type": "code",
      "source": [
        "ts_south = ts_south.rename(columns={\"south_cr_per_capita\": \"south_cr_per_10k_people\"})\n",
        "ts_south[\"south_cr_per_10k_people\"] = 10000*ts_south[\"south_cr_per_10k_people\"].round(4)"
      ],
      "metadata": {
        "id": "XkXlEw_J07uZ"
      },
      "execution_count": 192,
      "outputs": []
    },
    {
      "cell_type": "code",
      "source": [
        "train_south = ts_south[ts_south.index <= '2014-01-01']\n",
        "test_south = ts_south[ts_south.index > '2014-01-01']\n",
        "\n",
        "train_south.south_cr_per_10k_people = np.asarray(train_south.south_cr_per_10k_people)\n",
        "train_south.south_police_count = np.asarray(train_south.south_police_count)\n",
        "test_south.south_cr_per_10k_people = np.asarray(test_south.south_cr_per_10k_people)\n",
        "test_south.south_police_count = np.asarray(test_south.south_police_count)"
      ],
      "metadata": {
        "id": "HtVE3HvM1K9h"
      },
      "execution_count": 193,
      "outputs": []
    },
    {
      "cell_type": "code",
      "source": [
        "fig, ax = plt.subplots(figsize=(20, 11))\n",
        "ax.plot(train_south['south_police_count'])\n",
        "ax.set_xlabel('Year')\n",
        "ax.set_ylabel('Number of Police Officers in the South of Chicago')\n",
        "fig.autofmt_xdate()\n",
        "plt.tight_layout()\n"
      ],
      "metadata": {
        "colab": {
          "base_uri": "https://localhost:8080/",
          "height": 0
        },
        "id": "65Vyc0G51LLC",
        "outputId": "84b9901b-d38d-408d-b7ac-f5ecb2756e6b"
      },
      "execution_count": 194,
      "outputs": [
        {
          "output_type": "display_data",
          "data": {
            "text/plain": [
              "<Figure size 1440x792 with 1 Axes>"
            ],
            "image/png": "[encoded data removed]"
          },
          "metadata": {}
        }
      ]
    },
    {
      "cell_type": "code",
      "source": [
        "# Split data into train-test\n",
        "# ==============================================================================\n",
        "train_south = ts_south[ts_south.index <= '2014-01-01']\n",
        "test_south = ts_south[ts_south.index > '2014-01-01']\n",
        "\n",
        "print(f\"Train dates : {train_south.index.min()} --- {train_south.index.max()}  (n={len(train_south)})\")\n",
        "print(f\"Test dates  : {test_south.index.min()} --- {test_south.index.max()}  (n={len(test_south)})\")\n",
        "\n",
        "fig, ax=plt.subplots(figsize=(9, 4))\n",
        "train_south['south_police_count'].plot(ax=ax, label='train')\n",
        "test_south['south_police_count'].plot(ax=ax, label='test')\n",
        "ax.legend();"
      ],
      "metadata": {
        "colab": {
          "base_uri": "https://localhost:8080/",
          "height": 0
        },
        "id": "26CeTeOT1LZm",
        "outputId": "f00d0005-eaec-4ba4-ad09-721f365f6013"
      },
      "execution_count": 195,
      "outputs": [
        {
          "output_type": "stream",
          "name": "stdout",
          "text": [
            "Train dates : 2000-01-01 00:00:00 --- 2014-01-01 00:00:00  (n=15)\n",
            "Test dates  : 2015-01-01 00:00:00 --- 2018-01-01 00:00:00  (n=4)\n"
          ]
        },
        {
          "output_type": "display_data",
          "data": {
            "text/plain": [
              "<Figure size 648x288 with 1 Axes>"
            ],
            "image/png": "[encoded data removed]"
          },
          "metadata": {}
        }
      ]
    },
    {
      "cell_type": "code",
      "source": [
        "# Create and train forecaster\n",
        "# ==============================================================================\n",
        "from sklearn.ensemble import RandomForestRegressor\n",
        "forecaster = ForecasterAutoreg(\n",
        "                regressor = RandomForestRegressor(random_state=123),\n",
        "                lags      = 6\n",
        "             )\n",
        "\n",
        "forecaster.fit(y=train_south['south_police_count'])\n",
        "forecaster\n",
        "\n",
        "# Predictions\n",
        "# ==============================================================================\n",
        "steps = 4\n",
        "predictions = forecaster.predict(steps=steps)\n",
        "predictions.head()"
      ],
      "metadata": {
        "colab": {
          "base_uri": "https://localhost:8080/"
        },
        "id": "q5_pn2_M1Llm",
        "outputId": "1bc8a7af-4ab1-448c-db36-4480a46d12b3"
      },
      "execution_count": 196,
      "outputs": [
        {
          "output_type": "execute_result",
          "data": {
            "text/plain": [
              "2015-01-01   3195.62\n",
              "2016-01-01   3195.62\n",
              "2017-01-01   3207.98\n",
              "2018-01-01   3143.31\n",
              "Freq: 12MS, Name: pred, dtype: float64"
            ]
          },
          "metadata": {},
          "execution_count": 196
        }
      ]
    },
    {
      "cell_type": "code",
      "source": [
        "# Plot\n",
        "# ==============================================================================\n",
        "fig, ax = plt.subplots(figsize=(9, 4))\n",
        "train_south['south_police_count'].plot(ax=ax, label='train')\n",
        "test_south['south_police_count'].plot(ax=ax, label='test')\n",
        "predictions.plot(ax=ax, label='predictions')\n",
        "ax.legend();"
      ],
      "metadata": {
        "colab": {
          "base_uri": "https://localhost:8080/",
          "height": 0
        },
        "id": "MrJA0X3-2q1k",
        "outputId": "88203a60-3d58-45f3-8911-f881273cae97"
      },
      "execution_count": 197,
      "outputs": [
        {
          "output_type": "display_data",
          "data": {
            "text/plain": [
              "<Figure size 648x288 with 1 Axes>"
            ],
            "image/png": "[encoded data removed]"
          },
          "metadata": {}
        }
      ]
    },
    {
      "cell_type": "code",
      "source": [
        "# Test error\n",
        "# ==============================================================================\n",
        "from sklearn.metrics import mean_squared_error\n",
        "error_mse = mean_squared_error(\n",
        "                y_true = test_south['south_police_count'],\n",
        "                y_pred = predictions\n",
        "            )\n",
        "\n",
        "print(f\"Test error (mse): {error_mse}\")\n"
      ],
      "metadata": {
        "colab": {
          "base_uri": "https://localhost:8080/"
        },
        "id": "AaNGvZtY2q81",
        "outputId": "26d47b47-17f4-4c2e-f691-e8ef460cca5f"
      },
      "execution_count": 198,
      "outputs": [
        {
          "output_type": "stream",
          "name": "stdout",
          "text": [
            "Test error (mse): 5345.936325000006\n"
          ]
        }
      ]
    },
    {
      "cell_type": "code",
      "source": [
        "# Hyperparameter Grid search\n",
        "# ==============================================================================\n",
        "steps = 1\n",
        "forecaster = ForecasterAutoreg(\n",
        "                regressor = RandomForestRegressor(random_state=123),\n",
        "                lags      = 1 # This value will be replaced in the grid search\n",
        "             )\n",
        "\n",
        "# Lags used as predictors\n",
        "lags_grid = [3, 5]\n",
        "\n",
        "# Regressor's hyperparameters\n",
        "param_grid = {'n_estimators': [100, 300, 500],\n",
        "              'max_depth': [3, 5, 10]}\n",
        "\n",
        "results_grid = grid_search_forecaster(\n",
        "                        forecaster         = forecaster,\n",
        "                        y                  = train_south['south_police_count'],\n",
        "                        param_grid         = param_grid,\n",
        "                        lags_grid          = lags_grid,\n",
        "                        steps              = steps,\n",
        "                        refit              = True,\n",
        "                        metric             = 'mean_squared_error',\n",
        "                        initial_train_size = 10,\n",
        "                        fixed_train_size   = False,\n",
        "                        return_best        = True,\n",
        "                        verbose            = False\n",
        "               )"
      ],
      "metadata": {
        "colab": {
          "base_uri": "https://localhost:8080/"
        },
        "id": "ZRcaJvmo2rEC",
        "outputId": "0d0bd05a-a819-4cb4-aea3-a45194da70b1"
      },
      "execution_count": 199,
      "outputs": [
        {
          "output_type": "stream",
          "name": "stdout",
          "text": [
            "Number of models compared: 18.\n"
          ]
        },
        {
          "output_type": "stream",
          "name": "stderr",
          "text": [
            "loop lags_grid:   0%|                                               | 0/2 [00:00<?, ?it/s]\n",
            "loop param_grid:   0%|                                              | 0/9 [00:00<?, ?it/s]\u001b[A\n",
            "loop param_grid:  11%|████▏                                 | 1/9 [00:01<00:12,  1.57s/it]\u001b[A\n",
            "loop param_grid:  22%|████████▍                             | 2/9 [00:04<00:18,  2.60s/it]\u001b[A\n",
            "loop param_grid:  33%|████████████▋                         | 3/9 [00:09<00:21,  3.56s/it]\u001b[A\n",
            "loop param_grid:  44%|████████████████▉                     | 4/9 [00:10<00:12,  2.42s/it]\u001b[A\n",
            "loop param_grid:  56%|█████████████████████                 | 5/9 [00:12<00:08,  2.22s/it]\u001b[A\n",
            "loop param_grid:  67%|█████████████████████████▎            | 6/9 [00:15<00:07,  2.50s/it]\u001b[A\n",
            "loop param_grid:  78%|█████████████████████████████▌        | 7/9 [00:15<00:03,  1.90s/it]\u001b[A\n",
            "loop param_grid:  89%|█████████████████████████████████▊    | 8/9 [00:17<00:01,  1.89s/it]\u001b[A\n",
            "loop param_grid: 100%|██████████████████████████████████████| 9/9 [00:20<00:00,  2.26s/it]\u001b[A\n",
            "loop lags_grid:  50%|███████████████████▌                   | 1/2 [00:20<00:20, 20.83s/it]\n",
            "loop param_grid:   0%|                                              | 0/9 [00:00<?, ?it/s]\u001b[A\n",
            "loop param_grid:  11%|████▏                                 | 1/9 [00:00<00:05,  1.52it/s]\u001b[A\n",
            "loop param_grid:  22%|████████▍                             | 2/9 [00:02<00:09,  1.36s/it]\u001b[A\n",
            "loop param_grid:  33%|████████████▋                         | 3/9 [00:05<00:12,  2.15s/it]\u001b[A\n",
            "loop param_grid:  44%|████████████████▉                     | 4/9 [00:06<00:07,  1.57s/it]\u001b[A\n",
            "loop param_grid:  56%|█████████████████████                 | 5/9 [00:08<00:06,  1.74s/it]\u001b[A\n",
            "loop param_grid:  67%|█████████████████████████▎            | 6/9 [00:11<00:06,  2.20s/it]\u001b[A\n",
            "loop param_grid:  78%|█████████████████████████████▌        | 7/9 [00:12<00:03,  1.70s/it]\u001b[A\n",
            "loop param_grid:  89%|█████████████████████████████████▊    | 8/9 [00:14<00:01,  1.78s/it]\u001b[A\n",
            "loop param_grid: 100%|██████████████████████████████████████| 9/9 [00:19<00:00,  2.85s/it]\u001b[A\n",
            "loop lags_grid: 100%|███████████████████████████████████████| 2/2 [00:40<00:00, 20.04s/it]\n"
          ]
        },
        {
          "output_type": "stream",
          "name": "stdout",
          "text": [
            "`Forecaster` refitted using the best-found lags and parameters, and the whole data set: \n",
            "  Lags: [1 2 3 4 5] \n",
            "  Parameters: {'max_depth': 10, 'n_estimators': 100}\n",
            "  Backtesting metric: 5072.010200000008\n",
            "\n"
          ]
        }
      ]
    },
    {
      "cell_type": "code",
      "source": [
        "# Create and train forecaster with the best hyperparameters\n",
        "# ==============================================================================\n",
        "regressor = RandomForestRegressor(max_depth=10, n_estimators=100, random_state=123)\n",
        "forecaster = ForecasterAutoreg(\n",
        "                regressor = regressor,\n",
        "                lags      = 3\n",
        "             )\n",
        "\n",
        "forecaster.fit(y=train_south['south_police_count'])\n",
        "\n"
      ],
      "metadata": {
        "id": "pNfZjRGg2rMZ"
      },
      "execution_count": 200,
      "outputs": []
    },
    {
      "cell_type": "code",
      "source": [
        "# Predictions\n",
        "# ==============================================================================\n",
        "steps = 4\n",
        "predictions = forecaster.predict(steps=steps)\n",
        "predictions\n"
      ],
      "metadata": {
        "colab": {
          "base_uri": "https://localhost:8080/"
        },
        "id": "yuEyz2vO1LyW",
        "outputId": "e71e357b-739f-4573-82ee-c78d7f84d9b1"
      },
      "execution_count": 201,
      "outputs": [
        {
          "output_type": "execute_result",
          "data": {
            "text/plain": [
              "2015-01-01   3206.40\n",
              "2016-01-01   3199.55\n",
              "2017-01-01   3176.17\n",
              "2018-01-01   3156.85\n",
              "Freq: 12MS, Name: pred, dtype: float64"
            ]
          },
          "metadata": {},
          "execution_count": 201
        }
      ]
    },
    {
      "cell_type": "code",
      "source": [
        "# Plot\n",
        "# ==============================================================================\n",
        "fig, ax = plt.subplots(figsize=(9, 4))\n",
        "train_south['south_police_count'].plot(ax=ax, label='train')\n",
        "test_south['south_police_count'].plot(ax=ax, label='test')\n",
        "predictions.plot(ax=ax, label='predictions')\n",
        "ax.legend();"
      ],
      "metadata": {
        "colab": {
          "base_uri": "https://localhost:8080/",
          "height": 0
        },
        "id": "WfBnddzP4Nq-",
        "outputId": "ce9f499e-9db4-43e0-9eb8-5e4430a65923"
      },
      "execution_count": 202,
      "outputs": [
        {
          "output_type": "display_data",
          "data": {
            "text/plain": [
              "<Figure size 648x288 with 1 Axes>"
            ],
            "image/png": "[encoded data removed]"
          },
          "metadata": {}
        }
      ]
    },
    {
      "cell_type": "markdown",
      "source": [
        "##_______________"
      ],
      "metadata": {
        "id": "Qy4lOFg4ut2l"
      }
    },
    {
      "cell_type": "markdown",
      "source": [
        "## Question 1: Extension, Understanding Importance of indivisual features"
      ],
      "metadata": {
        "id": "TbRU9gAb4xzr"
      }
    },
    {
      "cell_type": "markdown",
      "source": [
        "## Importing Data"
      ],
      "metadata": {
        "id": "Oa_-lUHCkOEi"
      }
    },
    {
      "cell_type": "code",
      "source": [
        "df = pd.read_csv(\n",
        "    \"categorical.csv\")"
      ],
      "metadata": {
        "id": "7KMDjxOOj8AJ"
      },
      "execution_count": 203,
      "outputs": []
    },
    {
      "cell_type": "code",
      "source": [
        "df.head()"
      ],
      "metadata": {
        "colab": {
          "base_uri": "https://localhost:8080/",
          "height": 0
        },
        "id": "iRsRfvFbkJt2",
        "outputId": "e3365599-4c1d-4986-c274-2bafadf82c40"
      },
      "execution_count": 204,
      "outputs": [
        {
          "output_type": "execute_result",
          "data": {
            "text/plain": [
              "   years  area_id unit_name                            race  officer_cnt  officer_pct  civilian_cnt  community_pct  allegations_pc_val  total_num_officers\n",
              "0   2000     1548      10TH                           Black           22         0.06         39440           0.33                0.00                 360\n",
              "1   2000     1548      10TH                           White          127         0.35          4300           0.04                0.00                 360\n",
              "2   2000     1548      10TH                        Hispanic          202         0.56         73441           0.62                0.00                 360\n",
              "3   2000     1546      11TH                           White          215         0.55          1664           0.02                0.01                 389\n",
              "4   2000     1546      11TH  Native American/Alaskan Native            1         0.00            73           0.00                0.01                 389"
            ],
            "text/html": [
              "\n",
              "  <div id=\"df-bce2e8cd-1bbf-42a6-a6ec-36a16e324ea1\">\n",
              "    <div class=\"colab-df-container\">\n",
              "      <div>\n",
              "<style scoped>\n",
              "    .dataframe tbody tr th:only-of-type {\n",
              "        vertical-align: middle;\n",
              "    }\n",
              "\n",
              "    .dataframe tbody tr th {\n",
              "        vertical-align: top;\n",
              "    }\n",
              "\n",
              "    .dataframe thead th {\n",
              "        text-align: right;\n",
              "    }\n",
              "</style>\n",
              "<table border=\"1\" class=\"dataframe\">\n",
              "  <thead>\n",
              "    <tr style=\"text-align: right;\">\n",
              "      <th></th>\n",
              "      <th>years</th>\n",
              "      <th>area_id</th>\n",
              "      <th>unit_name</th>\n",
              "      <th>race</th>\n",
              "      <th>officer_cnt</th>\n",
              "      <th>officer_pct</th>\n",
              "      <th>civilian_cnt</th>\n",
              "      <th>community_pct</th>\n",
              "      <th>allegations_pc_val</th>\n",
              "      <th>total_num_officers</th>\n",
              "    </tr>\n",
              "  </thead>\n",
              "  <tbody>\n",
              "    <tr>\n",
              "      <th>0</th>\n",
              "      <td>2000</td>\n",
              "      <td>1548</td>\n",
              "      <td>10TH</td>\n",
              "      <td>Black</td>\n",
              "      <td>22</td>\n",
              "      <td>0.06</td>\n",
              "      <td>39440</td>\n",
              "      <td>0.33</td>\n",
              "      <td>0.00</td>\n",
              "      <td>360</td>\n",
              "    </tr>\n",
              "    <tr>\n",
              "      <th>1</th>\n",
              "      <td>2000</td>\n",
              "      <td>1548</td>\n",
              "      <td>10TH</td>\n",
              "      <td>White</td>\n",
              "      <td>127</td>\n",
              "      <td>0.35</td>\n",
              "      <td>4300</td>\n",
              "      <td>0.04</td>\n",
              "      <td>0.00</td>\n",
              "      <td>360</td>\n",
              "    </tr>\n",
              "    <tr>\n",
              "      <th>2</th>\n",
              "      <td>2000</td>\n",
              "      <td>1548</td>\n",
              "      <td>10TH</td>\n",
              "      <td>Hispanic</td>\n",
              "      <td>202</td>\n",
              "      <td>0.56</td>\n",
              "      <td>73441</td>\n",
              "      <td>0.62</td>\n",
              "      <td>0.00</td>\n",
              "      <td>360</td>\n",
              "    </tr>\n",
              "    <tr>\n",
              "      <th>3</th>\n",
              "      <td>2000</td>\n",
              "      <td>1546</td>\n",
              "      <td>11TH</td>\n",
              "      <td>White</td>\n",
              "      <td>215</td>\n",
              "      <td>0.55</td>\n",
              "      <td>1664</td>\n",
              "      <td>0.02</td>\n",
              "      <td>0.01</td>\n",
              "      <td>389</td>\n",
              "    </tr>\n",
              "    <tr>\n",
              "      <th>4</th>\n",
              "      <td>2000</td>\n",
              "      <td>1546</td>\n",
              "      <td>11TH</td>\n",
              "      <td>Native American/Alaskan Native</td>\n",
              "      <td>1</td>\n",
              "      <td>0.00</td>\n",
              "      <td>73</td>\n",
              "      <td>0.00</td>\n",
              "      <td>0.01</td>\n",
              "      <td>389</td>\n",
              "    </tr>\n",
              "  </tbody>\n",
              "</table>\n",
              "</div>\n",
              "      <button class=\"colab-df-convert\" onclick=\"convertToInteractive('df-bce2e8cd-1bbf-42a6-a6ec-36a16e324ea1')\"\n",
              "              title=\"Convert this dataframe to an interactive table.\"\n",
              "              style=\"display:none;\">\n",
              "        \n",
              "  <svg xmlns=\"http://www.w3.org/2000/svg\" height=\"24px\"viewBox=\"0 0 24 24\"\n",
              "       width=\"24px\">\n",
              "    <path d=\"M0 0h24v24H0V0z\" fill=\"none\"/>\n",
              "    <path d=\"M18.56 5.44l.94 2.06.94-2.06 2.06-.94-2.06-.94-.94-2.06-.94 2.06-2.06.94zm-11 1L8.5 8.5l.94-2.06 2.06-.94-2.06-.94L8.5 2.5l-.94 2.06-2.06.94zm10 10l.94 2.06.94-2.06 2.06-.94-2.06-.94-.94-2.06-.94 2.06-2.06.94z\"/><path d=\"M17.41 7.96l-1.37-1.37c-.4-.4-.92-.59-1.43-.59-.52 0-1.04.2-1.43.59L10.3 9.45l-7.72 7.72c-.78.78-.78 2.05 0 2.83L4 21.41c.39.39.9.59 1.41.59.51 0 1.02-.2 1.41-.59l7.78-7.78 2.81-2.81c.8-.78.8-2.07 0-2.86zM5.41 20L4 18.59l7.72-7.72 1.47 1.35L5.41 20z\"/>\n",
              "  </svg>\n",
              "      </button>\n",
              "      \n",
              "  <style>\n",
              "    .colab-df-container {\n",
              "      display:flex;\n",
              "      flex-wrap:wrap;\n",
              "      gap: 12px;\n",
              "    }\n",
              "\n",
              "    .colab-df-convert {\n",
              "      background-color: #E8F0FE;\n",
              "      border: none;\n",
              "      border-radius: 50%;\n",
              "      cursor: pointer;\n",
              "      display: none;\n",
              "      fill: #1967D2;\n",
              "      height: 32px;\n",
              "      padding: 0 0 0 0;\n",
              "      width: 32px;\n",
              "    }\n",
              "\n",
              "    .colab-df-convert:hover {\n",
              "      background-color: #E2EBFA;\n",
              "      box-shadow: 0px 1px 2px rgba(60, 64, 67, 0.3), 0px 1px 3px 1px rgba(60, 64, 67, 0.15);\n",
              "      fill: #174EA6;\n",
              "    }\n",
              "\n",
              "    [theme=dark] .colab-df-convert {\n",
              "      background-color: #3B4455;\n",
              "      fill: #D2E3FC;\n",
              "    }\n",
              "\n",
              "    [theme=dark] .colab-df-convert:hover {\n",
              "      background-color: #434B5C;\n",
              "      box-shadow: 0px 1px 3px 1px rgba(0, 0, 0, 0.15);\n",
              "      filter: drop-shadow(0px 1px 2px rgba(0, 0, 0, 0.3));\n",
              "      fill: #FFFFFF;\n",
              "    }\n",
              "  </style>\n",
              "\n",
              "      <script>\n",
              "        const buttonEl =\n",
              "          document.querySelector('#df-bce2e8cd-1bbf-42a6-a6ec-36a16e324ea1 button.colab-df-convert');\n",
              "        buttonEl.style.display =\n",
              "          google.colab.kernel.accessAllowed ? 'block' : 'none';\n",
              "\n",
              "        async function convertToInteractive(key) {\n",
              "          const element = document.querySelector('#df-bce2e8cd-1bbf-42a6-a6ec-36a16e324ea1');\n",
              "          const dataTable =\n",
              "            await google.colab.kernel.invokeFunction('convertToInteractive',\n",
              "                                                     [key], {});\n",
              "          if (!dataTable) return;\n",
              "\n",
              "          const docLinkHtml = 'Like what you see? Visit the ' +\n",
              "            '<a target=\"_blank\" href=https://colab.research.google.com/notebooks/data_table.ipynb>data table notebook</a>'\n",
              "            + ' to learn more about interactive tables.';\n",
              "          element.innerHTML = '';\n",
              "          dataTable['output_type'] = 'display_data';\n",
              "          await google.colab.output.renderOutput(dataTable, element);\n",
              "          const docLink = document.createElement('div');\n",
              "          docLink.innerHTML = docLinkHtml;\n",
              "          element.appendChild(docLink);\n",
              "        }\n",
              "      </script>\n",
              "    </div>\n",
              "  </div>\n",
              "  "
            ]
          },
          "metadata": {},
          "execution_count": 204
        }
      ]
    },
    {
      "cell_type": "code",
      "source": [
        "df = df.drop(columns=[\"area_id\"])\n",
        "df['years'] = df['years'].astype(str)\n"
      ],
      "metadata": {
        "id": "7wIug8iTkck-"
      },
      "execution_count": 205,
      "outputs": []
    },
    {
      "cell_type": "code",
      "source": [
        "X = df.drop(columns=[\"total_num_officers\"])"
      ],
      "metadata": {
        "id": "KSNpmKYRrbW5"
      },
      "execution_count": 206,
      "outputs": []
    },
    {
      "cell_type": "code",
      "source": [
        "y = df[[\"total_num_officers\"]]"
      ],
      "metadata": {
        "id": "wUkp-XQfroWx"
      },
      "execution_count": 207,
      "outputs": []
    },
    {
      "cell_type": "code",
      "source": [
        "print(X.shape)\n",
        "print(X.columns)\n",
        "print(y.shape)\n",
        "print(y.columns)"
      ],
      "metadata": {
        "colab": {
          "base_uri": "https://localhost:8080/"
        },
        "id": "e9_A1TAtrrup",
        "outputId": "4ae8e336-db73-4015-a108-4be305ac272c"
      },
      "execution_count": 208,
      "outputs": [
        {
          "output_type": "stream",
          "name": "stdout",
          "text": [
            "(1501, 8)\n",
            "Index(['years', 'unit_name', 'race', 'officer_cnt', 'officer_pct', 'civilian_cnt', 'community_pct', 'allegations_pc_val'], dtype='object')\n",
            "(1501, 1)\n",
            "Index(['total_num_officers'], dtype='object')\n"
          ]
        }
      ]
    },
    {
      "cell_type": "code",
      "source": [
        "X_train, X_test, y_train, y_test = train_test_split(X, y, test_size=0.2, random_state=1)"
      ],
      "metadata": {
        "id": "14Q4YM7HsRPy"
      },
      "execution_count": 209,
      "outputs": []
    },
    {
      "cell_type": "code",
      "source": [
        "print(X_train.shape)\n",
        "print(X_train.columns)\n",
        "print(y_train.shape)\n",
        "print(y_train.columns)\n",
        "print(\"______________\")\n",
        "print(X_test.shape)\n",
        "print(X_test.columns)\n",
        "print(y_test.shape)\n",
        "print(y_test.columns)"
      ],
      "metadata": {
        "colab": {
          "base_uri": "https://localhost:8080/"
        },
        "id": "dtqnDfScsTT1",
        "outputId": "2e054686-ec88-425c-d8a7-79d06f8566c5"
      },
      "execution_count": 210,
      "outputs": [
        {
          "output_type": "stream",
          "name": "stdout",
          "text": [
            "(1200, 8)\n",
            "Index(['years', 'unit_name', 'race', 'officer_cnt', 'officer_pct', 'civilian_cnt', 'community_pct', 'allegations_pc_val'], dtype='object')\n",
            "(1200, 1)\n",
            "Index(['total_num_officers'], dtype='object')\n",
            "______________\n",
            "(301, 8)\n",
            "Index(['years', 'unit_name', 'race', 'officer_cnt', 'officer_pct', 'civilian_cnt', 'community_pct', 'allegations_pc_val'], dtype='object')\n",
            "(301, 1)\n",
            "Index(['total_num_officers'], dtype='object')\n"
          ]
        }
      ]
    },
    {
      "cell_type": "markdown",
      "source": [
        "## EDA\n"
      ],
      "metadata": {
        "id": "aiV5ipKqmKzj"
      }
    },
    {
      "cell_type": "code",
      "source": [
        "# select numerical and categorical features\n",
        "def divideFeatures(df):\n",
        "    numerical_features = df.select_dtypes(include=[np.number])\n",
        "    categorical_features = df.select_dtypes(include=[np.object])\n",
        "    # categorical_features[\"years\"] = df[\"years\"]\n",
        "    return numerical_features, categorical_features"
      ],
      "metadata": {
        "id": "DWyCsHQvkljG"
      },
      "execution_count": 211,
      "outputs": []
    },
    {
      "cell_type": "code",
      "source": [
        "numerical_features, categorical_features = divideFeatures(X_train)"
      ],
      "metadata": {
        "id": "ob0V97DskvtB"
      },
      "execution_count": 212,
      "outputs": []
    },
    {
      "cell_type": "code",
      "source": [
        "numerical_features.head()"
      ],
      "metadata": {
        "colab": {
          "base_uri": "https://localhost:8080/",
          "height": 0
        },
        "id": "8Mkj6ZsglGrF",
        "outputId": "9dd7604a-22a0-4ecc-9c43-b2681ce2ffa4"
      },
      "execution_count": 213,
      "outputs": [
        {
          "output_type": "execute_result",
          "data": {
            "text/plain": [
              "      officer_cnt  officer_pct  civilian_cnt  community_pct  allegations_pc_val\n",
              "701           209         0.46           262           0.00                0.01\n",
              "1342           32         0.09         19044           0.12                0.00\n",
              "556            64         0.16         59671           0.85                0.01\n",
              "785           110         0.28        139854           0.57                0.00\n",
              "1206            1         0.00           321           0.00                0.00"
            ],
            "text/html": [
              "\n",
              "  <div id=\"df-981a2732-77e6-4836-8611-b8efbecf4ce9\">\n",
              "    <div class=\"colab-df-container\">\n",
              "      <div>\n",
              "<style scoped>\n",
              "    .dataframe tbody tr th:only-of-type {\n",
              "        vertical-align: middle;\n",
              "    }\n",
              "\n",
              "    .dataframe tbody tr th {\n",
              "        vertical-align: top;\n",
              "    }\n",
              "\n",
              "    .dataframe thead th {\n",
              "        text-align: right;\n",
              "    }\n",
              "</style>\n",
              "<table border=\"1\" class=\"dataframe\">\n",
              "  <thead>\n",
              "    <tr style=\"text-align: right;\">\n",
              "      <th></th>\n",
              "      <th>officer_cnt</th>\n",
              "      <th>officer_pct</th>\n",
              "      <th>civilian_cnt</th>\n",
              "      <th>community_pct</th>\n",
              "      <th>allegations_pc_val</th>\n",
              "    </tr>\n",
              "  </thead>\n",
              "  <tbody>\n",
              "    <tr>\n",
              "      <th>701</th>\n",
              "      <td>209</td>\n",
              "      <td>0.46</td>\n",
              "      <td>262</td>\n",
              "      <td>0.00</td>\n",
              "      <td>0.01</td>\n",
              "    </tr>\n",
              "    <tr>\n",
              "      <th>1342</th>\n",
              "      <td>32</td>\n",
              "      <td>0.09</td>\n",
              "      <td>19044</td>\n",
              "      <td>0.12</td>\n",
              "      <td>0.00</td>\n",
              "    </tr>\n",
              "    <tr>\n",
              "      <th>556</th>\n",
              "      <td>64</td>\n",
              "      <td>0.16</td>\n",
              "      <td>59671</td>\n",
              "      <td>0.85</td>\n",
              "      <td>0.01</td>\n",
              "    </tr>\n",
              "    <tr>\n",
              "      <th>785</th>\n",
              "      <td>110</td>\n",
              "      <td>0.28</td>\n",
              "      <td>139854</td>\n",
              "      <td>0.57</td>\n",
              "      <td>0.00</td>\n",
              "    </tr>\n",
              "    <tr>\n",
              "      <th>1206</th>\n",
              "      <td>1</td>\n",
              "      <td>0.00</td>\n",
              "      <td>321</td>\n",
              "      <td>0.00</td>\n",
              "      <td>0.00</td>\n",
              "    </tr>\n",
              "  </tbody>\n",
              "</table>\n",
              "</div>\n",
              "      <button class=\"colab-df-convert\" onclick=\"convertToInteractive('df-981a2732-77e6-4836-8611-b8efbecf4ce9')\"\n",
              "              title=\"Convert this dataframe to an interactive table.\"\n",
              "              style=\"display:none;\">\n",
              "        \n",
              "  <svg xmlns=\"http://www.w3.org/2000/svg\" height=\"24px\"viewBox=\"0 0 24 24\"\n",
              "       width=\"24px\">\n",
              "    <path d=\"M0 0h24v24H0V0z\" fill=\"none\"/>\n",
              "    <path d=\"M18.56 5.44l.94 2.06.94-2.06 2.06-.94-2.06-.94-.94-2.06-.94 2.06-2.06.94zm-11 1L8.5 8.5l.94-2.06 2.06-.94-2.06-.94L8.5 2.5l-.94 2.06-2.06.94zm10 10l.94 2.06.94-2.06 2.06-.94-2.06-.94-.94-2.06-.94 2.06-2.06.94z\"/><path d=\"M17.41 7.96l-1.37-1.37c-.4-.4-.92-.59-1.43-.59-.52 0-1.04.2-1.43.59L10.3 9.45l-7.72 7.72c-.78.78-.78 2.05 0 2.83L4 21.41c.39.39.9.59 1.41.59.51 0 1.02-.2 1.41-.59l7.78-7.78 2.81-2.81c.8-.78.8-2.07 0-2.86zM5.41 20L4 18.59l7.72-7.72 1.47 1.35L5.41 20z\"/>\n",
              "  </svg>\n",
              "      </button>\n",
              "      \n",
              "  <style>\n",
              "    .colab-df-container {\n",
              "      display:flex;\n",
              "      flex-wrap:wrap;\n",
              "      gap: 12px;\n",
              "    }\n",
              "\n",
              "    .colab-df-convert {\n",
              "      background-color: #E8F0FE;\n",
              "      border: none;\n",
              "      border-radius: 50%;\n",
              "      cursor: pointer;\n",
              "      display: none;\n",
              "      fill: #1967D2;\n",
              "      height: 32px;\n",
              "      padding: 0 0 0 0;\n",
              "      width: 32px;\n",
              "    }\n",
              "\n",
              "    .colab-df-convert:hover {\n",
              "      background-color: #E2EBFA;\n",
              "      box-shadow: 0px 1px 2px rgba(60, 64, 67, 0.3), 0px 1px 3px 1px rgba(60, 64, 67, 0.15);\n",
              "      fill: #174EA6;\n",
              "    }\n",
              "\n",
              "    [theme=dark] .colab-df-convert {\n",
              "      background-color: #3B4455;\n",
              "      fill: #D2E3FC;\n",
              "    }\n",
              "\n",
              "    [theme=dark] .colab-df-convert:hover {\n",
              "      background-color: #434B5C;\n",
              "      box-shadow: 0px 1px 3px 1px rgba(0, 0, 0, 0.15);\n",
              "      filter: drop-shadow(0px 1px 2px rgba(0, 0, 0, 0.3));\n",
              "      fill: #FFFFFF;\n",
              "    }\n",
              "  </style>\n",
              "\n",
              "      <script>\n",
              "        const buttonEl =\n",
              "          document.querySelector('#df-981a2732-77e6-4836-8611-b8efbecf4ce9 button.colab-df-convert');\n",
              "        buttonEl.style.display =\n",
              "          google.colab.kernel.accessAllowed ? 'block' : 'none';\n",
              "\n",
              "        async function convertToInteractive(key) {\n",
              "          const element = document.querySelector('#df-981a2732-77e6-4836-8611-b8efbecf4ce9');\n",
              "          const dataTable =\n",
              "            await google.colab.kernel.invokeFunction('convertToInteractive',\n",
              "                                                     [key], {});\n",
              "          if (!dataTable) return;\n",
              "\n",
              "          const docLinkHtml = 'Like what you see? Visit the ' +\n",
              "            '<a target=\"_blank\" href=https://colab.research.google.com/notebooks/data_table.ipynb>data table notebook</a>'\n",
              "            + ' to learn more about interactive tables.';\n",
              "          element.innerHTML = '';\n",
              "          dataTable['output_type'] = 'display_data';\n",
              "          await google.colab.output.renderOutput(dataTable, element);\n",
              "          const docLink = document.createElement('div');\n",
              "          docLink.innerHTML = docLinkHtml;\n",
              "          element.appendChild(docLink);\n",
              "        }\n",
              "      </script>\n",
              "    </div>\n",
              "  </div>\n",
              "  "
            ]
          },
          "metadata": {},
          "execution_count": 213
        }
      ]
    },
    {
      "cell_type": "code",
      "source": [
        "categorical_features.head()"
      ],
      "metadata": {
        "colab": {
          "base_uri": "https://localhost:8080/",
          "height": 0
        },
        "id": "SS1--aGJlH8q",
        "outputId": "305b092e-af85-43b8-b329-732e81b471c0"
      },
      "execution_count": 214,
      "outputs": [
        {
          "output_type": "execute_result",
          "data": {
            "text/plain": [
              "     years unit_name                            race\n",
              "701   2008       7TH                           White\n",
              "1342  2016       9TH                           Black\n",
              "556   2007      11TH                           Black\n",
              "785   2009       8TH                        Hispanic\n",
              "1206  2015      17TH  Native American/Alaskan Native"
            ],
            "text/html": [
              "\n",
              "  <div id=\"df-bbf3ac69-5267-4e6c-8303-6af5321fc3f1\">\n",
              "    <div class=\"colab-df-container\">\n",
              "      <div>\n",
              "<style scoped>\n",
              "    .dataframe tbody tr th:only-of-type {\n",
              "        vertical-align: middle;\n",
              "    }\n",
              "\n",
              "    .dataframe tbody tr th {\n",
              "        vertical-align: top;\n",
              "    }\n",
              "\n",
              "    .dataframe thead th {\n",
              "        text-align: right;\n",
              "    }\n",
              "</style>\n",
              "<table border=\"1\" class=\"dataframe\">\n",
              "  <thead>\n",
              "    <tr style=\"text-align: right;\">\n",
              "      <th></th>\n",
              "      <th>years</th>\n",
              "      <th>unit_name</th>\n",
              "      <th>race</th>\n",
              "    </tr>\n",
              "  </thead>\n",
              "  <tbody>\n",
              "    <tr>\n",
              "      <th>701</th>\n",
              "      <td>2008</td>\n",
              "      <td>7TH</td>\n",
              "      <td>White</td>\n",
              "    </tr>\n",
              "    <tr>\n",
              "      <th>1342</th>\n",
              "      <td>2016</td>\n",
              "      <td>9TH</td>\n",
              "      <td>Black</td>\n",
              "    </tr>\n",
              "    <tr>\n",
              "      <th>556</th>\n",
              "      <td>2007</td>\n",
              "      <td>11TH</td>\n",
              "      <td>Black</td>\n",
              "    </tr>\n",
              "    <tr>\n",
              "      <th>785</th>\n",
              "      <td>2009</td>\n",
              "      <td>8TH</td>\n",
              "      <td>Hispanic</td>\n",
              "    </tr>\n",
              "    <tr>\n",
              "      <th>1206</th>\n",
              "      <td>2015</td>\n",
              "      <td>17TH</td>\n",
              "      <td>Native American/Alaskan Native</td>\n",
              "    </tr>\n",
              "  </tbody>\n",
              "</table>\n",
              "</div>\n",
              "      <button class=\"colab-df-convert\" onclick=\"convertToInteractive('df-bbf3ac69-5267-4e6c-8303-6af5321fc3f1')\"\n",
              "              title=\"Convert this dataframe to an interactive table.\"\n",
              "              style=\"display:none;\">\n",
              "        \n",
              "  <svg xmlns=\"http://www.w3.org/2000/svg\" height=\"24px\"viewBox=\"0 0 24 24\"\n",
              "       width=\"24px\">\n",
              "    <path d=\"M0 0h24v24H0V0z\" fill=\"none\"/>\n",
              "    <path d=\"M18.56 5.44l.94 2.06.94-2.06 2.06-.94-2.06-.94-.94-2.06-.94 2.06-2.06.94zm-11 1L8.5 8.5l.94-2.06 2.06-.94-2.06-.94L8.5 2.5l-.94 2.06-2.06.94zm10 10l.94 2.06.94-2.06 2.06-.94-2.06-.94-.94-2.06-.94 2.06-2.06.94z\"/><path d=\"M17.41 7.96l-1.37-1.37c-.4-.4-.92-.59-1.43-.59-.52 0-1.04.2-1.43.59L10.3 9.45l-7.72 7.72c-.78.78-.78 2.05 0 2.83L4 21.41c.39.39.9.59 1.41.59.51 0 1.02-.2 1.41-.59l7.78-7.78 2.81-2.81c.8-.78.8-2.07 0-2.86zM5.41 20L4 18.59l7.72-7.72 1.47 1.35L5.41 20z\"/>\n",
              "  </svg>\n",
              "      </button>\n",
              "      \n",
              "  <style>\n",
              "    .colab-df-container {\n",
              "      display:flex;\n",
              "      flex-wrap:wrap;\n",
              "      gap: 12px;\n",
              "    }\n",
              "\n",
              "    .colab-df-convert {\n",
              "      background-color: #E8F0FE;\n",
              "      border: none;\n",
              "      border-radius: 50%;\n",
              "      cursor: pointer;\n",
              "      display: none;\n",
              "      fill: #1967D2;\n",
              "      height: 32px;\n",
              "      padding: 0 0 0 0;\n",
              "      width: 32px;\n",
              "    }\n",
              "\n",
              "    .colab-df-convert:hover {\n",
              "      background-color: #E2EBFA;\n",
              "      box-shadow: 0px 1px 2px rgba(60, 64, 67, 0.3), 0px 1px 3px 1px rgba(60, 64, 67, 0.15);\n",
              "      fill: #174EA6;\n",
              "    }\n",
              "\n",
              "    [theme=dark] .colab-df-convert {\n",
              "      background-color: #3B4455;\n",
              "      fill: #D2E3FC;\n",
              "    }\n",
              "\n",
              "    [theme=dark] .colab-df-convert:hover {\n",
              "      background-color: #434B5C;\n",
              "      box-shadow: 0px 1px 3px 1px rgba(0, 0, 0, 0.15);\n",
              "      filter: drop-shadow(0px 1px 2px rgba(0, 0, 0, 0.3));\n",
              "      fill: #FFFFFF;\n",
              "    }\n",
              "  </style>\n",
              "\n",
              "      <script>\n",
              "        const buttonEl =\n",
              "          document.querySelector('#df-bbf3ac69-5267-4e6c-8303-6af5321fc3f1 button.colab-df-convert');\n",
              "        buttonEl.style.display =\n",
              "          google.colab.kernel.accessAllowed ? 'block' : 'none';\n",
              "\n",
              "        async function convertToInteractive(key) {\n",
              "          const element = document.querySelector('#df-bbf3ac69-5267-4e6c-8303-6af5321fc3f1');\n",
              "          const dataTable =\n",
              "            await google.colab.kernel.invokeFunction('convertToInteractive',\n",
              "                                                     [key], {});\n",
              "          if (!dataTable) return;\n",
              "\n",
              "          const docLinkHtml = 'Like what you see? Visit the ' +\n",
              "            '<a target=\"_blank\" href=https://colab.research.google.com/notebooks/data_table.ipynb>data table notebook</a>'\n",
              "            + ' to learn more about interactive tables.';\n",
              "          element.innerHTML = '';\n",
              "          dataTable['output_type'] = 'display_data';\n",
              "          await google.colab.output.renderOutput(dataTable, element);\n",
              "          const docLink = document.createElement('div');\n",
              "          docLink.innerHTML = docLinkHtml;\n",
              "          element.appendChild(docLink);\n",
              "        }\n",
              "      </script>\n",
              "    </div>\n",
              "  </div>\n",
              "  "
            ]
          },
          "metadata": {},
          "execution_count": 214
        }
      ]
    },
    {
      "cell_type": "code",
      "source": [
        "print(categorical_features.shape)\n",
        "print(categorical_features.columns)\n",
        "print(numerical_features.shape)\n",
        "print(numerical_features.columns)"
      ],
      "metadata": {
        "colab": {
          "base_uri": "https://localhost:8080/"
        },
        "id": "A-PdbUIBs33z",
        "outputId": "46a174cb-f2d0-4e82-d46f-afeaa9ac3393"
      },
      "execution_count": 215,
      "outputs": [
        {
          "output_type": "stream",
          "name": "stdout",
          "text": [
            "(1200, 3)\n",
            "Index(['years', 'unit_name', 'race'], dtype='object')\n",
            "(1200, 5)\n",
            "Index(['officer_cnt', 'officer_pct', 'civilian_cnt', 'community_pct', 'allegations_pc_val'], dtype='object')\n"
          ]
        }
      ]
    },
    {
      "cell_type": "code",
      "source": [
        "# boxplots of numerical features for outlier detection\n",
        "\n",
        "fig = plt.figure(figsize=(16,30))\n",
        "for i in range(len(numerical_features.columns)):\n",
        "    fig.add_subplot(9, 5, i+1)\n",
        "    sns.boxplot(y=numerical_features.iloc[:,i])\n",
        "plt.tight_layout()\n",
        "plt.show()"
      ],
      "metadata": {
        "colab": {
          "base_uri": "https://localhost:8080/",
          "height": 0
        },
        "id": "bso7rYf6mGKs",
        "outputId": "b3c76362-476b-4ecc-84e4-0e9cb4be6bf8"
      },
      "execution_count": 216,
      "outputs": [
        {
          "output_type": "display_data",
          "data": {
            "text/plain": [
              "<Figure size 1152x2160 with 5 Axes>"
            ],
            "image/png": "[encoded data removed]"
          },
          "metadata": {}
        }
      ]
    },
    {
      "cell_type": "code",
      "source": [
        "# distplots for categorical data\n",
        "\n",
        "fig = plt.figure(figsize=(30,30))\n",
        "\n",
        "for i in range(len(categorical_features.columns)):\n",
        "    fig.add_subplot(9, 5, i+1)\n",
        "    categorical_features.iloc[:,i].hist()\n",
        "    plt.xlabel(categorical_features.columns[i])\n",
        "# plt.tight_layout()\n",
        "plt.show()"
      ],
      "metadata": {
        "colab": {
          "base_uri": "https://localhost:8080/",
          "height": 0
        },
        "id": "LEeHj_oPmcp0",
        "outputId": "fe05cf8c-282e-491f-99c0-2357bdf2d7f2"
      },
      "execution_count": 217,
      "outputs": [
        {
          "output_type": "display_data",
          "data": {
            "text/plain": [
              "<Figure size 2160x2160 with 3 Axes>"
            ],
            "image/png": "[encoded data removed]"
          },
          "metadata": {}
        }
      ]
    },
    {
      "cell_type": "code",
      "source": [
        "# discrete_features=[feature for feature in list(numerical_features.columns) if numerical_features[feature].unique().shape[0]<25]\n",
        "# fig = plt.figure(figsize=(16,30))\n",
        "# for i,feature in enumerate(discrete_features):\n",
        "#     fig.add_subplot(6, 3, i+1)\n",
        "#     data=df.copy()\n",
        "#     data.groupby(feature)['total_num_officers'].median().plot.bar()\n",
        "#     plt.xlabel(feature)\n",
        "#     plt.ylabel('total_num_officers')\n",
        "#     plt.title(feature)\n",
        "# plt.tight_layout()\n",
        "# plt.show()"
      ],
      "metadata": {
        "id": "RXWQGEiRmfKt"
      },
      "execution_count": 218,
      "outputs": []
    },
    {
      "cell_type": "code",
      "source": [
        "## Missing values\n",
        "print(X_train.isnull().values.any())\n",
        "print(pd.isna(X_train).sum())"
      ],
      "metadata": {
        "colab": {
          "base_uri": "https://localhost:8080/"
        },
        "id": "_VEI0DVIpJI3",
        "outputId": "f29ae059-a70a-48e3-db67-3dde019e14ea"
      },
      "execution_count": 219,
      "outputs": [
        {
          "output_type": "stream",
          "name": "stdout",
          "text": [
            "False\n",
            "years                 0\n",
            "unit_name             0\n",
            "race                  0\n",
            "officer_cnt           0\n",
            "officer_pct           0\n",
            "civilian_cnt          0\n",
            "community_pct         0\n",
            "allegations_pc_val    0\n",
            "dtype: int64\n"
          ]
        }
      ]
    },
    {
      "cell_type": "code",
      "source": [],
      "metadata": {
        "id": "CPoSoZttgWYn"
      },
      "execution_count": 219,
      "outputs": []
    },
    {
      "cell_type": "markdown",
      "source": [
        "## Checking for model assumptions"
      ],
      "metadata": {
        "id": "_Ia3afFxtOyX"
      }
    },
    {
      "cell_type": "code",
      "source": [
        "import matplotlib.gridspec as gridspec\n",
        "fig = plt.figure(constrained_layout=True, figsize=(16,6))\n",
        "grid = gridspec.GridSpec(ncols=3, nrows=1, figure=fig)\n",
        "ax1 = fig.add_subplot(grid[0, :2])\n",
        "ax1.set_title('Histogram')\n",
        "sns.distplot(y_train.loc[:,'total_num_officers'], norm_hist=True, ax = ax1)\n",
        "ax3 = fig.add_subplot(grid[:, 2])\n",
        "ax3.set_title('Box Plot')\n",
        "sns.boxplot(y_train.loc[:,'total_num_officers'], orient='v', ax = ax3)\n",
        "plt.show()"
      ],
      "metadata": {
        "colab": {
          "base_uri": "https://localhost:8080/",
          "height": 0
        },
        "id": "yeUt48GPrKby",
        "outputId": "56dbfa3b-8a2d-43bb-f313-ce9c93206c8c"
      },
      "execution_count": 220,
      "outputs": [
        {
          "output_type": "display_data",
          "data": {
            "text/plain": [
              "<Figure size 1152x432 with 2 Axes>"
            ],
            "image/png": "[encoded data removed]"
          },
          "metadata": {}
        }
      ]
    },
    {
      "cell_type": "markdown",
      "source": [
        "### It's almost normally distributed, but have to deal with outliers"
      ],
      "metadata": {
        "id": "_7N1xZXgtocK"
      }
    },
    {
      "cell_type": "code",
      "source": [
        "# Bivariate analysis"
      ],
      "metadata": {
        "id": "XSaaeH4Wtdpy"
      },
      "execution_count": 221,
      "outputs": []
    },
    {
      "cell_type": "code",
      "source": [
        "# scatterplot for correlation analysis of features with total_num_officers\n",
        "\n",
        "fig = plt.figure(figsize=(16,30))\n",
        "for i in range(len(numerical_features.columns)):\n",
        "    fig.add_subplot(8, 5, i+1)\n",
        "    sns.regplot(x=y_train['total_num_officers'],y=numerical_features.iloc[:,i])\n",
        "plt.tight_layout()\n",
        "plt.show()"
      ],
      "metadata": {
        "colab": {
          "base_uri": "https://localhost:8080/",
          "height": 0
        },
        "id": "nL7KSqZWt0q7",
        "outputId": "2e1e18b7-788b-4a38-ea93-9f05fff53eb1"
      },
      "execution_count": 222,
      "outputs": [
        {
          "output_type": "display_data",
          "data": {
            "text/plain": [
              "<Figure size 1152x2160 with 5 Axes>"
            ],
            "image/png": "[encoded data removed]"
          },
          "metadata": {}
        }
      ]
    },
    {
      "cell_type": "code",
      "source": [
        "# boxplot for distribution analysis of categorical features with SalePrice\n",
        "\n",
        "fig = plt.figure(figsize=(20,50))\n",
        "for i in range(len(categorical_features.columns)):\n",
        "    fig.add_subplot(11, 4, i+1)\n",
        "    sns.boxplot(y=y_train['total_num_officers'],x=categorical_features.iloc[:,i])\n",
        "plt.tight_layout()\n",
        "plt.show()"
      ],
      "metadata": {
        "colab": {
          "base_uri": "https://localhost:8080/",
          "height": 0
        },
        "id": "Lji4CknNt5su",
        "outputId": "9304c465-bd1c-4a6e-a02a-fcf72d8593e0"
      },
      "execution_count": 223,
      "outputs": [
        {
          "output_type": "display_data",
          "data": {
            "text/plain": [
              "<Figure size 1440x3600 with 3 Axes>"
            ],
            "image/png": "[encoded data removed]"
          },
          "metadata": {}
        }
      ]
    },
    {
      "cell_type": "code",
      "source": [
        "## Multivariate analysis"
      ],
      "metadata": {
        "id": "Kh3rBlj6uGW4"
      },
      "execution_count": 224,
      "outputs": []
    },
    {
      "cell_type": "code",
      "source": [
        "df_train = pd.concat([X_train, y_train], axis=1)\n",
        "df_test = pd.concat([X_test, y_test], axis=1)"
      ],
      "metadata": {
        "id": "h3x3sSX_27Rn"
      },
      "execution_count": 225,
      "outputs": []
    },
    {
      "cell_type": "code",
      "source": [
        "plt.figure(figsize = (30,20))\n",
        "\n",
        "mask = np.zeros_like(df_train.corr(), dtype=np.bool)\n",
        "mask[np.triu_indices_from(mask)] = True\n",
        "sns.heatmap(df_train.corr(), cmap=sns.diverging_palette(20, 220, n=200), mask = mask, annot=True, center = 0)\n",
        "plt.show()"
      ],
      "metadata": {
        "colab": {
          "base_uri": "https://localhost:8080/",
          "height": 0
        },
        "id": "98Toz8-NuQ6F",
        "outputId": "122273eb-603f-422e-81af-5435ffff6670"
      },
      "execution_count": 226,
      "outputs": [
        {
          "output_type": "display_data",
          "data": {
            "text/plain": [
              "<Figure size 2160x1440 with 2 Axes>"
            ],
            "image/png": "[encoded data removed]"
          },
          "metadata": {}
        }
      ]
    },
    {
      "cell_type": "markdown",
      "source": [
        "## Data cleaning"
      ],
      "metadata": {
        "id": "6XsUeG6sxNwH"
      }
    },
    {
      "cell_type": "code",
      "source": [
        "X_train.columns"
      ],
      "metadata": {
        "colab": {
          "base_uri": "https://localhost:8080/"
        },
        "id": "3wRfI6igwZ6U",
        "outputId": "2191d3f0-0428-4bff-80be-707c5a3a32b9"
      },
      "execution_count": 227,
      "outputs": [
        {
          "output_type": "execute_result",
          "data": {
            "text/plain": [
              "Index(['years', 'unit_name', 'race', 'officer_cnt', 'officer_pct', 'civilian_cnt', 'community_pct', 'allegations_pc_val'], dtype='object')"
            ]
          },
          "metadata": {},
          "execution_count": 227
        }
      ]
    },
    {
      "cell_type": "code",
      "source": [
        "print(df_train.shape)\n",
        "df_train.drop_duplicates(inplace=True)\n",
        "print(df_train.shape)"
      ],
      "metadata": {
        "colab": {
          "base_uri": "https://localhost:8080/"
        },
        "id": "Ad_XgS4kxTBn",
        "outputId": "e67bc023-2c29-4a70-89cd-21d9c84eb6e5"
      },
      "execution_count": 228,
      "outputs": [
        {
          "output_type": "stream",
          "name": "stdout",
          "text": [
            "(1200, 9)\n",
            "(1200, 9)\n"
          ]
        }
      ]
    },
    {
      "cell_type": "code",
      "source": [
        "# We checked for null values earlier, no duplicates detected, all preliminary irrelevant columns dropped "
      ],
      "metadata": {
        "id": "miMAkMgNxvBf"
      },
      "execution_count": 229,
      "outputs": []
    },
    {
      "cell_type": "markdown",
      "source": [
        "## Data Prep"
      ],
      "metadata": {
        "id": "crLqOF4ZySsC"
      }
    },
    {
      "cell_type": "code",
      "source": [
        "# plot sample skewed feature\n",
        "plt.figure(figsize=(10,4))\n",
        "sns.distplot(df_train[\"allegations_pc_val\"])\n",
        "plt.show()"
      ],
      "metadata": {
        "colab": {
          "base_uri": "https://localhost:8080/",
          "height": 0
        },
        "id": "-64oy5QmzBTb",
        "outputId": "897d9c14-794c-461d-b1b7-e22746eb33c3"
      },
      "execution_count": 230,
      "outputs": [
        {
          "output_type": "display_data",
          "data": {
            "text/plain": [
              "<Figure size 720x288 with 1 Axes>"
            ],
            "image/png": "[encoded data removed]"
          },
          "metadata": {}
        }
      ]
    },
    {
      "cell_type": "code",
      "source": [
        "# extract all skewed features\n",
        "temp_numerical_features, temp_categorical_features = divideFeatures(df_train)\n",
        "skewed_features = temp_numerical_features.apply(lambda x: x.skew()).sort_values(ascending=False)"
      ],
      "metadata": {
        "id": "IRq-LQxCyRGe"
      },
      "execution_count": 231,
      "outputs": []
    },
    {
      "cell_type": "code",
      "source": [
        "skewed_features"
      ],
      "metadata": {
        "colab": {
          "base_uri": "https://localhost:8080/"
        },
        "id": "_49WkkAJykZe",
        "outputId": "ba920335-5893-4ba5-c718-723dee1d767c"
      },
      "execution_count": 232,
      "outputs": [
        {
          "output_type": "execute_result",
          "data": {
            "text/plain": [
              "allegations_pc_val   2.12\n",
              "civilian_cnt         1.36\n",
              "community_pct        1.03\n",
              "officer_cnt          0.40\n",
              "officer_pct          0.39\n",
              "total_num_officers   0.05\n",
              "dtype: float64"
            ]
          },
          "metadata": {},
          "execution_count": 232
        }
      ]
    },
    {
      "cell_type": "code",
      "source": [
        "# transform skewed features\n",
        "for feat in skewed_features.index:\n",
        "    if skewed_features.loc[feat] > 0.5:\n",
        "        df_train[feat] = stats.boxcox(df_train[feat])[0]\n",
        "        df_test[feat] = stats.boxcox(df_test[feat])[0]"
      ],
      "metadata": {
        "id": "fgXrGMAFylsb"
      },
      "execution_count": 233,
      "outputs": []
    },
    {
      "cell_type": "code",
      "source": [],
      "metadata": {
        "id": "pWfCE_Ik8cTF"
      },
      "execution_count": 233,
      "outputs": []
    },
    {
      "cell_type": "code",
      "source": [
        "# plot sample skewed feature\n",
        "plt.figure(figsize=(10,4))\n",
        "sns.distplot(df_train[\"allegations_pc_val\"])\n",
        "plt.show()"
      ],
      "metadata": {
        "colab": {
          "base_uri": "https://localhost:8080/",
          "height": 0
        },
        "id": "BivTsGN82Hin",
        "outputId": "91d82a12-c473-4dfa-92c1-17104abf7108"
      },
      "execution_count": 234,
      "outputs": [
        {
          "output_type": "display_data",
          "data": {
            "text/plain": [
              "<Figure size 720x288 with 1 Axes>"
            ],
            "image/png": "[encoded data removed]"
          },
          "metadata": {}
        }
      ]
    },
    {
      "cell_type": "code",
      "source": [
        "upd_numerical_features, upd_categorical_features = divideFeatures(df_train)\n",
        "upd_skewed_features = upd_numerical_features.apply(lambda x: x.skew()).sort_values(ascending=False)"
      ],
      "metadata": {
        "id": "L0buJc-j1sIv"
      },
      "execution_count": 235,
      "outputs": []
    },
    {
      "cell_type": "code",
      "source": [
        "upd_skewed_features"
      ],
      "metadata": {
        "colab": {
          "base_uri": "https://localhost:8080/"
        },
        "id": "qg8tJJDC2tkd",
        "outputId": "bdf01fea-0a64-4d49-f270-cf034b2c95d0"
      },
      "execution_count": 236,
      "outputs": [
        {
          "output_type": "execute_result",
          "data": {
            "text/plain": [
              "officer_cnt           0.40\n",
              "officer_pct           0.39\n",
              "total_num_officers    0.05\n",
              "allegations_pc_val   -0.01\n",
              "community_pct        -0.20\n",
              "civilian_cnt         -0.22\n",
              "dtype: float64"
            ]
          },
          "metadata": {},
          "execution_count": 236
        }
      ]
    },
    {
      "cell_type": "code",
      "source": [
        "# outlier treatment for categorical features\n",
        "def getCategoricalSkewed(categories, threshold):\n",
        "    tempSkewedFeatures = []\n",
        "    for feat in categories:\n",
        "        for featValuePerc in list(df_train[feat].value_counts()/df_train.shape[0]):\n",
        "            if featValuePerc > threshold:\n",
        "                tempSkewedFeatures.append(feat)\n",
        "    return list(set(tempSkewedFeatures))\n",
        "\n",
        "# display all categorical skewed features which have value_counts > 90%\n",
        "categoricalSkewed = getCategoricalSkewed(temp_categorical_features.columns, .90)\n",
        "for feat in categoricalSkewed:\n",
        "    print(df_train[feat].value_counts()/len(df_train))\n",
        "    print()\n"
      ],
      "metadata": {
        "id": "N2EBKRYJ2CG_"
      },
      "execution_count": 237,
      "outputs": []
    },
    {
      "cell_type": "code",
      "source": [
        "# There are no highly skewed categorical variables"
      ],
      "metadata": {
        "id": "eVW3dAMv6NWf"
      },
      "execution_count": 238,
      "outputs": []
    },
    {
      "cell_type": "markdown",
      "source": [
        "## Dummy Variables"
      ],
      "metadata": {
        "id": "d8uyuiCT-uQK"
      }
    },
    {
      "cell_type": "code",
      "source": [
        "# extract numerical and categorical for dummy and scaling later\n",
        "numerical_features, categorical_features = divideFeatures(X_train)\n",
        "for feat in categorical_features.columns:\n",
        "    dummyVars = pd.get_dummies(X_train[feat], drop_first=True, prefix=feat+\"_\")\n",
        "    X_train = pd.concat([X_train, dummyVars], axis=1)\n",
        "    X_train.drop(feat, axis=1, inplace=True)\n",
        "\n",
        "    dummyVars_test = pd.get_dummies(X_test[feat], drop_first=True, prefix=feat+\"_\")\n",
        "    X_test = pd.concat([X_test, dummyVars_test], axis=1)\n",
        "    X_test.drop(feat, axis=1, inplace=True)\n"
      ],
      "metadata": {
        "id": "GY9dwaXS5FfC"
      },
      "execution_count": 239,
      "outputs": []
    },
    {
      "cell_type": "code",
      "source": [
        "X_train.shape"
      ],
      "metadata": {
        "colab": {
          "base_uri": "https://localhost:8080/"
        },
        "id": "TK_pycdEyoo0",
        "outputId": "20809bec-bc61-4d6c-b4d0-49cfb7cc47a0"
      },
      "execution_count": 240,
      "outputs": [
        {
          "output_type": "execute_result",
          "data": {
            "text/plain": [
              "(1200, 47)"
            ]
          },
          "metadata": {},
          "execution_count": 240
        }
      ]
    },
    {
      "cell_type": "code",
      "source": [
        "X_test.shape"
      ],
      "metadata": {
        "colab": {
          "base_uri": "https://localhost:8080/"
        },
        "id": "QkDFUQ3iy50O",
        "outputId": "371580e8-d120-4e5d-d8d2-b479dc5f125f"
      },
      "execution_count": 241,
      "outputs": [
        {
          "output_type": "execute_result",
          "data": {
            "text/plain": [
              "(301, 47)"
            ]
          },
          "metadata": {},
          "execution_count": 241
        }
      ]
    },
    {
      "cell_type": "markdown",
      "source": [
        "## Feature Scaling"
      ],
      "metadata": {
        "id": "B4BR9pJA_JZ-"
      }
    },
    {
      "cell_type": "code",
      "source": [
        "scaler = skp.StandardScaler()\n",
        "\n",
        "num_feat = list(numerical_features.columns)\n",
        "# num_feat = []\n",
        "# for i in range(len(numdd)):\n",
        "#   num_feat.append(numdd[i])\n",
        "# num_feat.remove('total_num_officers')\n",
        "\n",
        "# apply scaling to all numerical variables except dummy variables as they are already between 0 and 1\n",
        "X_train[num_feat] = scaler.fit_transform(X_train[num_feat])\n",
        "\n",
        "# scale test data with transform()\n",
        "X_test[num_feat] = scaler.transform(X_test[num_feat])\n",
        "\n",
        "df_test[num_feat] = scaler.transform(df_test[num_feat])\n",
        "\n",
        "\n",
        "# view sample data\n",
        "X_train.describe()"
      ],
      "metadata": {
        "colab": {
          "base_uri": "https://localhost:8080/",
          "height": 0
        },
        "id": "lrZ6iis68Nj7",
        "outputId": "e99d60d1-731c-4e19-de2f-f8952d75e3a7"
      },
      "execution_count": 242,
      "outputs": [
        {
          "output_type": "execute_result",
          "data": {
            "text/plain": [
              "       officer_cnt  officer_pct  civilian_cnt  community_pct  allegations_pc_val  years__2001  years__2002  years__2003  years__2004  years__2005  years__2006  years__2007  years__2008  years__2009  years__2010  years__2011  years__2012  years__2013  years__2014  years__2015  years__2016  years__2017  years__2018  unit_name__11TH  unit_name__12TH  unit_name__14TH  unit_name__15TH  \\\n",
              "count      1200.00      1200.00       1200.00        1200.00             1200.00      1200.00      1200.00      1200.00      1200.00      1200.00      1200.00      1200.00      1200.00      1200.00      1200.00      1200.00      1200.00      1200.00      1200.00      1200.00      1200.00      1200.00      1200.00          1200.00          1200.00          1200.00          1200.00   \n",
              "mean          0.00        -0.00         -0.00           0.00               -0.00         0.05         0.05         0.05         0.06         0.05         0.05         0.05         0.05         0.05         0.05         0.05         0.05         0.05         0.05         0.05         0.06         0.06         0.05             0.05             0.04             0.05             0.04   \n",
              "std           1.00         1.00          1.00           1.00                1.00         0.22         0.22         0.22         0.23         0.22         0.22         0.21         0.21         0.23         0.22         0.22         0.23         0.21         0.22         0.23         0.23         0.23         0.23             0.22             0.19             0.22             0.20   \n",
              "min          -1.24        -1.26         -0.86          -0.88               -1.18         0.00         0.00         0.00         0.00         0.00         0.00         0.00         0.00         0.00         0.00         0.00         0.00         0.00         0.00         0.00         0.00         0.00         0.00             0.00             0.00             0.00             0.00   \n",
              "25%          -0.97        -0.94         -0.83          -0.83               -0.71         0.00         0.00         0.00         0.00         0.00         0.00         0.00         0.00         0.00         0.00         0.00         0.00         0.00         0.00         0.00         0.00         0.00         0.00             0.00             0.00             0.00             0.00   \n",
              "50%          -0.13        -0.13         -0.39          -0.39               -0.30         0.00         0.00         0.00         0.00         0.00         0.00         0.00         0.00         0.00         0.00         0.00         0.00         0.00         0.00         0.00         0.00         0.00         0.00             0.00             0.00             0.00             0.00   \n",
              "75%           0.82         0.90          0.59           0.57                0.52         0.00         0.00         0.00         0.00         0.00         0.00         0.00         0.00         0.00         0.00         0.00         0.00         0.00         0.00         0.00         0.00         0.00         0.00             0.00             0.00             0.00             0.00   \n",
              "max           2.04         2.19          3.18           2.41                7.34         1.00         1.00         1.00         1.00         1.00         1.00         1.00         1.00         1.00         1.00         1.00         1.00         1.00         1.00         1.00         1.00         1.00         1.00             1.00             1.00             1.00             1.00   \n",
              "\n",
              "       unit_name__16TH  unit_name__17TH  unit_name__18TH  unit_name__19TH  unit_name__1ST  unit_name__20TH  unit_name__22ND  unit_name__24TH  unit_name__25TH  unit_name__2ND  unit_name__3RD  unit_name__4TH  unit_name__5TH  unit_name__6TH  unit_name__7TH  unit_name__8TH  unit_name__9TH  race__Hispanic  race__Native American/Alaskan Native  race__White  \n",
              "count          1200.00          1200.00          1200.00          1200.00         1200.00          1200.00          1200.00          1200.00          1200.00         1200.00         1200.00         1200.00         1200.00         1200.00         1200.00         1200.00         1200.00         1200.00                               1200.00      1200.00  \n",
              "mean              0.04             0.05             0.05             0.04            0.05             0.05             0.05             0.05             0.05            0.04            0.05            0.03            0.04            0.03            0.05            0.05            0.04            0.27                                  0.17         0.28  \n",
              "std               0.19             0.22             0.22             0.19            0.21             0.22             0.23             0.23             0.22            0.20            0.22            0.18            0.19            0.18            0.22            0.21            0.20            0.45                                  0.37         0.45  \n",
              "min               0.00             0.00             0.00             0.00            0.00             0.00             0.00             0.00             0.00            0.00            0.00            0.00            0.00            0.00            0.00            0.00            0.00            0.00                                  0.00         0.00  \n",
              "25%               0.00             0.00             0.00             0.00            0.00             0.00             0.00             0.00             0.00            0.00            0.00            0.00            0.00            0.00            0.00            0.00            0.00            0.00                                  0.00         0.00  \n",
              "50%               0.00             0.00             0.00             0.00            0.00             0.00             0.00             0.00             0.00            0.00            0.00            0.00            0.00            0.00            0.00            0.00            0.00            0.00                                  0.00         0.00  \n",
              "75%               0.00             0.00             0.00             0.00            0.00             0.00             0.00             0.00             0.00            0.00            0.00            0.00            0.00            0.00            0.00            0.00            0.00            1.00                                  0.00         1.00  \n",
              "max               1.00             1.00             1.00             1.00            1.00             1.00             1.00             1.00             1.00            1.00            1.00            1.00            1.00            1.00            1.00            1.00            1.00            1.00                                  1.00         1.00  "
            ],
            "text/html": [
              "\n",
              "  <div id=\"df-5dd2c825-5bee-4fd5-be96-7cd880cf9471\">\n",
              "    <div class=\"colab-df-container\">\n",
              "      <div>\n",
              "<style scoped>\n",
              "    .dataframe tbody tr th:only-of-type {\n",
              "        vertical-align: middle;\n",
              "    }\n",
              "\n",
              "    .dataframe tbody tr th {\n",
              "        vertical-align: top;\n",
              "    }\n",
              "\n",
              "    .dataframe thead th {\n",
              "        text-align: right;\n",
              "    }\n",
              "</style>\n",
              "<table border=\"1\" class=\"dataframe\">\n",
              "  <thead>\n",
              "    <tr style=\"text-align: right;\">\n",
              "      <th></th>\n",
              "      <th>officer_cnt</th>\n",
              "      <th>officer_pct</th>\n",
              "      <th>civilian_cnt</th>\n",
              "      <th>community_pct</th>\n",
              "      <th>allegations_pc_val</th>\n",
              "      <th>years__2001</th>\n",
              "      <th>years__2002</th>\n",
              "      <th>years__2003</th>\n",
              "      <th>years__2004</th>\n",
              "      <th>years__2005</th>\n",
              "      <th>years__2006</th>\n",
              "      <th>years__2007</th>\n",
              "      <th>years__2008</th>\n",
              "      <th>years__2009</th>\n",
              "      <th>years__2010</th>\n",
              "      <th>years__2011</th>\n",
              "      <th>years__2012</th>\n",
              "      <th>years__2013</th>\n",
              "      <th>years__2014</th>\n",
              "      <th>years__2015</th>\n",
              "      <th>years__2016</th>\n",
              "      <th>years__2017</th>\n",
              "      <th>years__2018</th>\n",
              "      <th>unit_name__11TH</th>\n",
              "      <th>unit_name__12TH</th>\n",
              "      <th>unit_name__14TH</th>\n",
              "      <th>unit_name__15TH</th>\n",
              "      <th>unit_name__16TH</th>\n",
              "      <th>unit_name__17TH</th>\n",
              "      <th>unit_name__18TH</th>\n",
              "      <th>unit_name__19TH</th>\n",
              "      <th>unit_name__1ST</th>\n",
              "      <th>unit_name__20TH</th>\n",
              "      <th>unit_name__22ND</th>\n",
              "      <th>unit_name__24TH</th>\n",
              "      <th>unit_name__25TH</th>\n",
              "      <th>unit_name__2ND</th>\n",
              "      <th>unit_name__3RD</th>\n",
              "      <th>unit_name__4TH</th>\n",
              "      <th>unit_name__5TH</th>\n",
              "      <th>unit_name__6TH</th>\n",
              "      <th>unit_name__7TH</th>\n",
              "      <th>unit_name__8TH</th>\n",
              "      <th>unit_name__9TH</th>\n",
              "      <th>race__Hispanic</th>\n",
              "      <th>race__Native American/Alaskan Native</th>\n",
              "      <th>race__White</th>\n",
              "    </tr>\n",
              "  </thead>\n",
              "  <tbody>\n",
              "    <tr>\n",
              "      <th>count</th>\n",
              "      <td>1200.00</td>\n",
              "      <td>1200.00</td>\n",
              "      <td>1200.00</td>\n",
              "      <td>1200.00</td>\n",
              "      <td>1200.00</td>\n",
              "      <td>1200.00</td>\n",
              "      <td>1200.00</td>\n",
              "      <td>1200.00</td>\n",
              "      <td>1200.00</td>\n",
              "      <td>1200.00</td>\n",
              "      <td>1200.00</td>\n",
              "      <td>1200.00</td>\n",
              "      <td>1200.00</td>\n",
              "      <td>1200.00</td>\n",
              "      <td>1200.00</td>\n",
              "      <td>1200.00</td>\n",
              "      <td>1200.00</td>\n",
              "      <td>1200.00</td>\n",
              "      <td>1200.00</td>\n",
              "      <td>1200.00</td>\n",
              "      <td>1200.00</td>\n",
              "      <td>1200.00</td>\n",
              "      <td>1200.00</td>\n",
              "      <td>1200.00</td>\n",
              "      <td>1200.00</td>\n",
              "      <td>1200.00</td>\n",
              "      <td>1200.00</td>\n",
              "      <td>1200.00</td>\n",
              "      <td>1200.00</td>\n",
              "      <td>1200.00</td>\n",
              "      <td>1200.00</td>\n",
              "      <td>1200.00</td>\n",
              "      <td>1200.00</td>\n",
              "      <td>1200.00</td>\n",
              "      <td>1200.00</td>\n",
              "      <td>1200.00</td>\n",
              "      <td>1200.00</td>\n",
              "      <td>1200.00</td>\n",
              "      <td>1200.00</td>\n",
              "      <td>1200.00</td>\n",
              "      <td>1200.00</td>\n",
              "      <td>1200.00</td>\n",
              "      <td>1200.00</td>\n",
              "      <td>1200.00</td>\n",
              "      <td>1200.00</td>\n",
              "      <td>1200.00</td>\n",
              "      <td>1200.00</td>\n",
              "    </tr>\n",
              "    <tr>\n",
              "      <th>mean</th>\n",
              "      <td>0.00</td>\n",
              "      <td>-0.00</td>\n",
              "      <td>-0.00</td>\n",
              "      <td>0.00</td>\n",
              "      <td>-0.00</td>\n",
              "      <td>0.05</td>\n",
              "      <td>0.05</td>\n",
              "      <td>0.05</td>\n",
              "      <td>0.06</td>\n",
              "      <td>0.05</td>\n",
              "      <td>0.05</td>\n",
              "      <td>0.05</td>\n",
              "      <td>0.05</td>\n",
              "      <td>0.05</td>\n",
              "      <td>0.05</td>\n",
              "      <td>0.05</td>\n",
              "      <td>0.05</td>\n",
              "      <td>0.05</td>\n",
              "      <td>0.05</td>\n",
              "      <td>0.05</td>\n",
              "      <td>0.06</td>\n",
              "      <td>0.06</td>\n",
              "      <td>0.05</td>\n",
              "      <td>0.05</td>\n",
              "      <td>0.04</td>\n",
              "      <td>0.05</td>\n",
              "      <td>0.04</td>\n",
              "      <td>0.04</td>\n",
              "      <td>0.05</td>\n",
              "      <td>0.05</td>\n",
              "      <td>0.04</td>\n",
              "      <td>0.05</td>\n",
              "      <td>0.05</td>\n",
              "      <td>0.05</td>\n",
              "      <td>0.05</td>\n",
              "      <td>0.05</td>\n",
              "      <td>0.04</td>\n",
              "      <td>0.05</td>\n",
              "      <td>0.03</td>\n",
              "      <td>0.04</td>\n",
              "      <td>0.03</td>\n",
              "      <td>0.05</td>\n",
              "      <td>0.05</td>\n",
              "      <td>0.04</td>\n",
              "      <td>0.27</td>\n",
              "      <td>0.17</td>\n",
              "      <td>0.28</td>\n",
              "    </tr>\n",
              "    <tr>\n",
              "      <th>std</th>\n",
              "      <td>1.00</td>\n",
              "      <td>1.00</td>\n",
              "      <td>1.00</td>\n",
              "      <td>1.00</td>\n",
              "      <td>1.00</td>\n",
              "      <td>0.22</td>\n",
              "      <td>0.22</td>\n",
              "      <td>0.22</td>\n",
              "      <td>0.23</td>\n",
              "      <td>0.22</td>\n",
              "      <td>0.22</td>\n",
              "      <td>0.21</td>\n",
              "      <td>0.21</td>\n",
              "      <td>0.23</td>\n",
              "      <td>0.22</td>\n",
              "      <td>0.22</td>\n",
              "      <td>0.23</td>\n",
              "      <td>0.21</td>\n",
              "      <td>0.22</td>\n",
              "      <td>0.23</td>\n",
              "      <td>0.23</td>\n",
              "      <td>0.23</td>\n",
              "      <td>0.23</td>\n",
              "      <td>0.22</td>\n",
              "      <td>0.19</td>\n",
              "      <td>0.22</td>\n",
              "      <td>0.20</td>\n",
              "      <td>0.19</td>\n",
              "      <td>0.22</td>\n",
              "      <td>0.22</td>\n",
              "      <td>0.19</td>\n",
              "      <td>0.21</td>\n",
              "      <td>0.22</td>\n",
              "      <td>0.23</td>\n",
              "      <td>0.23</td>\n",
              "      <td>0.22</td>\n",
              "      <td>0.20</td>\n",
              "      <td>0.22</td>\n",
              "      <td>0.18</td>\n",
              "      <td>0.19</td>\n",
              "      <td>0.18</td>\n",
              "      <td>0.22</td>\n",
              "      <td>0.21</td>\n",
              "      <td>0.20</td>\n",
              "      <td>0.45</td>\n",
              "      <td>0.37</td>\n",
              "      <td>0.45</td>\n",
              "    </tr>\n",
              "    <tr>\n",
              "      <th>min</th>\n",
              "      <td>-1.24</td>\n",
              "      <td>-1.26</td>\n",
              "      <td>-0.86</td>\n",
              "      <td>-0.88</td>\n",
              "      <td>-1.18</td>\n",
              "      <td>0.00</td>\n",
              "      <td>0.00</td>\n",
              "      <td>0.00</td>\n",
              "      <td>0.00</td>\n",
              "      <td>0.00</td>\n",
              "      <td>0.00</td>\n",
              "      <td>0.00</td>\n",
              "      <td>0.00</td>\n",
              "      <td>0.00</td>\n",
              "      <td>0.00</td>\n",
              "      <td>0.00</td>\n",
              "      <td>0.00</td>\n",
              "      <td>0.00</td>\n",
              "      <td>0.00</td>\n",
              "      <td>0.00</td>\n",
              "      <td>0.00</td>\n",
              "      <td>0.00</td>\n",
              "      <td>0.00</td>\n",
              "      <td>0.00</td>\n",
              "      <td>0.00</td>\n",
              "      <td>0.00</td>\n",
              "      <td>0.00</td>\n",
              "      <td>0.00</td>\n",
              "      <td>0.00</td>\n",
              "      <td>0.00</td>\n",
              "      <td>0.00</td>\n",
              "      <td>0.00</td>\n",
              "      <td>0.00</td>\n",
              "      <td>0.00</td>\n",
              "      <td>0.00</td>\n",
              "      <td>0.00</td>\n",
              "      <td>0.00</td>\n",
              "      <td>0.00</td>\n",
              "      <td>0.00</td>\n",
              "      <td>0.00</td>\n",
              "      <td>0.00</td>\n",
              "      <td>0.00</td>\n",
              "      <td>0.00</td>\n",
              "      <td>0.00</td>\n",
              "      <td>0.00</td>\n",
              "      <td>0.00</td>\n",
              "      <td>0.00</td>\n",
              "    </tr>\n",
              "    <tr>\n",
              "      <th>25%</th>\n",
              "      <td>-0.97</td>\n",
              "      <td>-0.94</td>\n",
              "      <td>-0.83</td>\n",
              "      <td>-0.83</td>\n",
              "      <td>-0.71</td>\n",
              "      <td>0.00</td>\n",
              "      <td>0.00</td>\n",
              "      <td>0.00</td>\n",
              "      <td>0.00</td>\n",
              "      <td>0.00</td>\n",
              "      <td>0.00</td>\n",
              "      <td>0.00</td>\n",
              "      <td>0.00</td>\n",
              "      <td>0.00</td>\n",
              "      <td>0.00</td>\n",
              "      <td>0.00</td>\n",
              "      <td>0.00</td>\n",
              "      <td>0.00</td>\n",
              "      <td>0.00</td>\n",
              "      <td>0.00</td>\n",
              "      <td>0.00</td>\n",
              "      <td>0.00</td>\n",
              "      <td>0.00</td>\n",
              "      <td>0.00</td>\n",
              "      <td>0.00</td>\n",
              "      <td>0.00</td>\n",
              "      <td>0.00</td>\n",
              "      <td>0.00</td>\n",
              "      <td>0.00</td>\n",
              "      <td>0.00</td>\n",
              "      <td>0.00</td>\n",
              "      <td>0.00</td>\n",
              "      <td>0.00</td>\n",
              "      <td>0.00</td>\n",
              "      <td>0.00</td>\n",
              "      <td>0.00</td>\n",
              "      <td>0.00</td>\n",
              "      <td>0.00</td>\n",
              "      <td>0.00</td>\n",
              "      <td>0.00</td>\n",
              "      <td>0.00</td>\n",
              "      <td>0.00</td>\n",
              "      <td>0.00</td>\n",
              "      <td>0.00</td>\n",
              "      <td>0.00</td>\n",
              "      <td>0.00</td>\n",
              "      <td>0.00</td>\n",
              "    </tr>\n",
              "    <tr>\n",
              "      <th>50%</th>\n",
              "      <td>-0.13</td>\n",
              "      <td>-0.13</td>\n",
              "      <td>-0.39</td>\n",
              "      <td>-0.39</td>\n",
              "      <td>-0.30</td>\n",
              "      <td>0.00</td>\n",
              "      <td>0.00</td>\n",
              "      <td>0.00</td>\n",
              "      <td>0.00</td>\n",
              "      <td>0.00</td>\n",
              "      <td>0.00</td>\n",
              "      <td>0.00</td>\n",
              "      <td>0.00</td>\n",
              "      <td>0.00</td>\n",
              "      <td>0.00</td>\n",
              "      <td>0.00</td>\n",
              "      <td>0.00</td>\n",
              "      <td>0.00</td>\n",
              "      <td>0.00</td>\n",
              "      <td>0.00</td>\n",
              "      <td>0.00</td>\n",
              "      <td>0.00</td>\n",
              "      <td>0.00</td>\n",
              "      <td>0.00</td>\n",
              "      <td>0.00</td>\n",
              "      <td>0.00</td>\n",
              "      <td>0.00</td>\n",
              "      <td>0.00</td>\n",
              "      <td>0.00</td>\n",
              "      <td>0.00</td>\n",
              "      <td>0.00</td>\n",
              "      <td>0.00</td>\n",
              "      <td>0.00</td>\n",
              "      <td>0.00</td>\n",
              "      <td>0.00</td>\n",
              "      <td>0.00</td>\n",
              "      <td>0.00</td>\n",
              "      <td>0.00</td>\n",
              "      <td>0.00</td>\n",
              "      <td>0.00</td>\n",
              "      <td>0.00</td>\n",
              "      <td>0.00</td>\n",
              "      <td>0.00</td>\n",
              "      <td>0.00</td>\n",
              "      <td>0.00</td>\n",
              "      <td>0.00</td>\n",
              "      <td>0.00</td>\n",
              "    </tr>\n",
              "    <tr>\n",
              "      <th>75%</th>\n",
              "      <td>0.82</td>\n",
              "      <td>0.90</td>\n",
              "      <td>0.59</td>\n",
              "      <td>0.57</td>\n",
              "      <td>0.52</td>\n",
              "      <td>0.00</td>\n",
              "      <td>0.00</td>\n",
              "      <td>0.00</td>\n",
              "      <td>0.00</td>\n",
              "      <td>0.00</td>\n",
              "      <td>0.00</td>\n",
              "      <td>0.00</td>\n",
              "      <td>0.00</td>\n",
              "      <td>0.00</td>\n",
              "      <td>0.00</td>\n",
              "      <td>0.00</td>\n",
              "      <td>0.00</td>\n",
              "      <td>0.00</td>\n",
              "      <td>0.00</td>\n",
              "      <td>0.00</td>\n",
              "      <td>0.00</td>\n",
              "      <td>0.00</td>\n",
              "      <td>0.00</td>\n",
              "      <td>0.00</td>\n",
              "      <td>0.00</td>\n",
              "      <td>0.00</td>\n",
              "      <td>0.00</td>\n",
              "      <td>0.00</td>\n",
              "      <td>0.00</td>\n",
              "      <td>0.00</td>\n",
              "      <td>0.00</td>\n",
              "      <td>0.00</td>\n",
              "      <td>0.00</td>\n",
              "      <td>0.00</td>\n",
              "      <td>0.00</td>\n",
              "      <td>0.00</td>\n",
              "      <td>0.00</td>\n",
              "      <td>0.00</td>\n",
              "      <td>0.00</td>\n",
              "      <td>0.00</td>\n",
              "      <td>0.00</td>\n",
              "      <td>0.00</td>\n",
              "      <td>0.00</td>\n",
              "      <td>0.00</td>\n",
              "      <td>1.00</td>\n",
              "      <td>0.00</td>\n",
              "      <td>1.00</td>\n",
              "    </tr>\n",
              "    <tr>\n",
              "      <th>max</th>\n",
              "      <td>2.04</td>\n",
              "      <td>2.19</td>\n",
              "      <td>3.18</td>\n",
              "      <td>2.41</td>\n",
              "      <td>7.34</td>\n",
              "      <td>1.00</td>\n",
              "      <td>1.00</td>\n",
              "      <td>1.00</td>\n",
              "      <td>1.00</td>\n",
              "      <td>1.00</td>\n",
              "      <td>1.00</td>\n",
              "      <td>1.00</td>\n",
              "      <td>1.00</td>\n",
              "      <td>1.00</td>\n",
              "      <td>1.00</td>\n",
              "      <td>1.00</td>\n",
              "      <td>1.00</td>\n",
              "      <td>1.00</td>\n",
              "      <td>1.00</td>\n",
              "      <td>1.00</td>\n",
              "      <td>1.00</td>\n",
              "      <td>1.00</td>\n",
              "      <td>1.00</td>\n",
              "      <td>1.00</td>\n",
              "      <td>1.00</td>\n",
              "      <td>1.00</td>\n",
              "      <td>1.00</td>\n",
              "      <td>1.00</td>\n",
              "      <td>1.00</td>\n",
              "      <td>1.00</td>\n",
              "      <td>1.00</td>\n",
              "      <td>1.00</td>\n",
              "      <td>1.00</td>\n",
              "      <td>1.00</td>\n",
              "      <td>1.00</td>\n",
              "      <td>1.00</td>\n",
              "      <td>1.00</td>\n",
              "      <td>1.00</td>\n",
              "      <td>1.00</td>\n",
              "      <td>1.00</td>\n",
              "      <td>1.00</td>\n",
              "      <td>1.00</td>\n",
              "      <td>1.00</td>\n",
              "      <td>1.00</td>\n",
              "      <td>1.00</td>\n",
              "      <td>1.00</td>\n",
              "      <td>1.00</td>\n",
              "    </tr>\n",
              "  </tbody>\n",
              "</table>\n",
              "</div>\n",
              "      <button class=\"colab-df-convert\" onclick=\"convertToInteractive('df-5dd2c825-5bee-4fd5-be96-7cd880cf9471')\"\n",
              "              title=\"Convert this dataframe to an interactive table.\"\n",
              "              style=\"display:none;\">\n",
              "        \n",
              "  <svg xmlns=\"http://www.w3.org/2000/svg\" height=\"24px\"viewBox=\"0 0 24 24\"\n",
              "       width=\"24px\">\n",
              "    <path d=\"M0 0h24v24H0V0z\" fill=\"none\"/>\n",
              "    <path d=\"M18.56 5.44l.94 2.06.94-2.06 2.06-.94-2.06-.94-.94-2.06-.94 2.06-2.06.94zm-11 1L8.5 8.5l.94-2.06 2.06-.94-2.06-.94L8.5 2.5l-.94 2.06-2.06.94zm10 10l.94 2.06.94-2.06 2.06-.94-2.06-.94-.94-2.06-.94 2.06-2.06.94z\"/><path d=\"M17.41 7.96l-1.37-1.37c-.4-.4-.92-.59-1.43-.59-.52 0-1.04.2-1.43.59L10.3 9.45l-7.72 7.72c-.78.78-.78 2.05 0 2.83L4 21.41c.39.39.9.59 1.41.59.51 0 1.02-.2 1.41-.59l7.78-7.78 2.81-2.81c.8-.78.8-2.07 0-2.86zM5.41 20L4 18.59l7.72-7.72 1.47 1.35L5.41 20z\"/>\n",
              "  </svg>\n",
              "      </button>\n",
              "      \n",
              "  <style>\n",
              "    .colab-df-container {\n",
              "      display:flex;\n",
              "      flex-wrap:wrap;\n",
              "      gap: 12px;\n",
              "    }\n",
              "\n",
              "    .colab-df-convert {\n",
              "      background-color: #E8F0FE;\n",
              "      border: none;\n",
              "      border-radius: 50%;\n",
              "      cursor: pointer;\n",
              "      display: none;\n",
              "      fill: #1967D2;\n",
              "      height: 32px;\n",
              "      padding: 0 0 0 0;\n",
              "      width: 32px;\n",
              "    }\n",
              "\n",
              "    .colab-df-convert:hover {\n",
              "      background-color: #E2EBFA;\n",
              "      box-shadow: 0px 1px 2px rgba(60, 64, 67, 0.3), 0px 1px 3px 1px rgba(60, 64, 67, 0.15);\n",
              "      fill: #174EA6;\n",
              "    }\n",
              "\n",
              "    [theme=dark] .colab-df-convert {\n",
              "      background-color: #3B4455;\n",
              "      fill: #D2E3FC;\n",
              "    }\n",
              "\n",
              "    [theme=dark] .colab-df-convert:hover {\n",
              "      background-color: #434B5C;\n",
              "      box-shadow: 0px 1px 3px 1px rgba(0, 0, 0, 0.15);\n",
              "      filter: drop-shadow(0px 1px 2px rgba(0, 0, 0, 0.3));\n",
              "      fill: #FFFFFF;\n",
              "    }\n",
              "  </style>\n",
              "\n",
              "      <script>\n",
              "        const buttonEl =\n",
              "          document.querySelector('#df-5dd2c825-5bee-4fd5-be96-7cd880cf9471 button.colab-df-convert');\n",
              "        buttonEl.style.display =\n",
              "          google.colab.kernel.accessAllowed ? 'block' : 'none';\n",
              "\n",
              "        async function convertToInteractive(key) {\n",
              "          const element = document.querySelector('#df-5dd2c825-5bee-4fd5-be96-7cd880cf9471');\n",
              "          const dataTable =\n",
              "            await google.colab.kernel.invokeFunction('convertToInteractive',\n",
              "                                                     [key], {});\n",
              "          if (!dataTable) return;\n",
              "\n",
              "          const docLinkHtml = 'Like what you see? Visit the ' +\n",
              "            '<a target=\"_blank\" href=https://colab.research.google.com/notebooks/data_table.ipynb>data table notebook</a>'\n",
              "            + ' to learn more about interactive tables.';\n",
              "          element.innerHTML = '';\n",
              "          dataTable['output_type'] = 'display_data';\n",
              "          await google.colab.output.renderOutput(dataTable, element);\n",
              "          const docLink = document.createElement('div');\n",
              "          docLink.innerHTML = docLinkHtml;\n",
              "          element.appendChild(docLink);\n",
              "        }\n",
              "      </script>\n",
              "    </div>\n",
              "  </div>\n",
              "  "
            ]
          },
          "metadata": {},
          "execution_count": 242
        }
      ]
    },
    {
      "cell_type": "markdown",
      "source": [
        "## RFE Feature Selection"
      ],
      "metadata": {
        "id": "yPZ_QNl9B55c"
      }
    },
    {
      "cell_type": "code",
      "source": [
        "# Running RFE to extract top features\n",
        "lm = sklm.LinearRegression()\n",
        "lm.fit(X_train, y_train)\n",
        "\n",
        "rfe = RFE(lm)\n",
        "rfe = rfe.fit(X_train, y_train)\n",
        "rfeCols = X_train.columns[rfe.support_]\n",
        "X_train_rfe = X_train[rfeCols]\n",
        "X_test_rfe = X_test[rfeCols]\n",
        "print(\"Selected features by RFE are: \",list(rfeCols))\n",
        "print(\"The number of features selected by RFE is: \", len(list(rfeCols)))"
      ],
      "metadata": {
        "colab": {
          "base_uri": "https://localhost:8080/"
        },
        "id": "qCvw0ZMS_fKR",
        "outputId": "f65e80cf-8815-42af-c1f6-5d34cd550f9f"
      },
      "execution_count": 243,
      "outputs": [
        {
          "output_type": "stream",
          "name": "stdout",
          "text": [
            "Selected features by RFE are:  ['unit_name__11TH', 'unit_name__12TH', 'unit_name__14TH', 'unit_name__15TH', 'unit_name__16TH', 'unit_name__17TH', 'unit_name__18TH', 'unit_name__19TH', 'unit_name__1ST', 'unit_name__20TH', 'unit_name__22ND', 'unit_name__24TH', 'unit_name__25TH', 'unit_name__2ND', 'unit_name__3RD', 'unit_name__4TH', 'unit_name__5TH', 'unit_name__6TH', 'unit_name__7TH', 'unit_name__8TH', 'unit_name__9TH', 'race__Hispanic', 'race__White']\n",
            "The number of features selected by RFE is:  23\n"
          ]
        }
      ]
    },
    {
      "cell_type": "code",
      "source": [
        "X_train"
      ],
      "metadata": {
        "colab": {
          "base_uri": "https://localhost:8080/",
          "height": 0
        },
        "id": "OXV50NNiAdin",
        "outputId": "dc9af655-8fcc-4af1-d7b4-db6f99a279cb"
      },
      "execution_count": 244,
      "outputs": [
        {
          "output_type": "execute_result",
          "data": {
            "text/plain": [
              "      officer_cnt  officer_pct  civilian_cnt  community_pct  allegations_pc_val  years__2001  years__2002  years__2003  years__2004  years__2005  years__2006  years__2007  years__2008  years__2009  years__2010  years__2011  years__2012  years__2013  years__2014  years__2015  years__2016  years__2017  years__2018  unit_name__11TH  unit_name__12TH  unit_name__14TH  unit_name__15TH  \\\n",
              "701          1.49         0.88         -0.86          -0.87                1.39            0            0            0            0            0            0            0            1            0            0            0            0            0            0            0            0            0            0                0                0                0                0   \n",
              "1342        -0.83        -0.87         -0.35          -0.49               -0.84            0            0            0            0            0            0            0            0            0            0            0            0            0            0            0            1            0            0                0                0                0                0   \n",
              "556         -0.42        -0.51          0.74           1.98                2.18            0            0            0            0            0            0            1            0            0            0            0            0            0            0            0            0            0            0                1                0                0                0   \n",
              "785          0.19         0.03          2.90           1.03               -0.47            0            0            0            0            0            0            0            0            1            0            0            0            0            0            0            0            0            0                0                0                0                0   \n",
              "1206        -1.24        -1.25         -0.86          -0.88               -0.99            0            0            0            0            0            0            0            0            0            0            0            0            0            0            1            0            0            0                0                0                0                0   \n",
              "...           ...          ...           ...            ...                 ...          ...          ...          ...          ...          ...          ...          ...          ...          ...          ...          ...          ...          ...          ...          ...          ...          ...          ...              ...              ...              ...              ...   \n",
              "715         -1.24        -1.26         -0.86          -0.88                1.80            0            0            0            0            0            0            0            0            1            0            0            0            0            0            0            0            0            0                1                0                0                0   \n",
              "905         -1.20        -1.20         -0.86          -0.88               -0.73            0            0            0            0            0            0            0            0            0            0            1            0            0            0            0            0            0            0                0                0                0                0   \n",
              "1096         1.49         0.88         -0.86          -0.87                1.16            0            0            0            0            0            0            0            0            0            0            0            0            1            0            0            0            0            0                0                0                0                0   \n",
              "235         -0.83        -0.87         -0.35          -0.49               -0.43            0            1            0            0            0            0            0            0            0            0            0            0            0            0            0            0            0            0                0                0                0                0   \n",
              "1061        -1.24        -1.25         -0.86          -0.88                1.17            0            0            0            0            0            0            0            0            0            0            0            0            1            0            0            0            0            0                0                0                0                0   \n",
              "\n",
              "      unit_name__16TH  unit_name__17TH  unit_name__18TH  unit_name__19TH  unit_name__1ST  unit_name__20TH  unit_name__22ND  unit_name__24TH  unit_name__25TH  unit_name__2ND  unit_name__3RD  unit_name__4TH  unit_name__5TH  unit_name__6TH  unit_name__7TH  unit_name__8TH  unit_name__9TH  race__Hispanic  race__Native American/Alaskan Native  race__White  \n",
              "701                 0                0                0                0               0                0                0                0                0               0               0               0               0               0               1               0               0               0                                     0            1  \n",
              "1342                0                0                0                0               0                0                0                0                0               0               0               0               0               0               0               0               1               0                                     0            0  \n",
              "556                 0                0                0                0               0                0                0                0                0               0               0               0               0               0               0               0               0               0                                     0            0  \n",
              "785                 0                0                0                0               0                0                0                0                0               0               0               0               0               0               0               1               0               1                                     0            0  \n",
              "1206                0                1                0                0               0                0                0                0                0               0               0               0               0               0               0               0               0               0                                     1            0  \n",
              "...               ...              ...              ...              ...             ...              ...              ...              ...              ...             ...             ...             ...             ...             ...             ...             ...             ...             ...                                   ...          ...  \n",
              "715                 0                0                0                0               0                0                0                0                0               0               0               0               0               0               0               0               0               0                                     1            0  \n",
              "905                 0                0                0                0               0                1                0                0                0               0               0               0               0               0               0               0               0               0                                     1            0  \n",
              "1096                0                0                0                0               0                0                0                0                0               0               0               0               0               0               1               0               0               0                                     0            1  \n",
              "235                 0                0                0                0               0                0                0                0                0               0               0               0               0               0               0               0               1               0                                     0            0  \n",
              "1061                0                0                0                0               1                0                0                0                0               0               0               0               0               0               0               0               0               0                                     1            0  \n",
              "\n",
              "[1200 rows x 47 columns]"
            ],
            "text/html": [
              "\n",
              "  <div id=\"df-d53adff6-ff69-4e6f-9126-ad7791ddd980\">\n",
              "    <div class=\"colab-df-container\">\n",
              "      <div>\n",
              "<style scoped>\n",
              "    .dataframe tbody tr th:only-of-type {\n",
              "        vertical-align: middle;\n",
              "    }\n",
              "\n",
              "    .dataframe tbody tr th {\n",
              "        vertical-align: top;\n",
              "    }\n",
              "\n",
              "    .dataframe thead th {\n",
              "        text-align: right;\n",
              "    }\n",
              "</style>\n",
              "<table border=\"1\" class=\"dataframe\">\n",
              "  <thead>\n",
              "    <tr style=\"text-align: right;\">\n",
              "      <th></th>\n",
              "      <th>officer_cnt</th>\n",
              "      <th>officer_pct</th>\n",
              "      <th>civilian_cnt</th>\n",
              "      <th>community_pct</th>\n",
              "      <th>allegations_pc_val</th>\n",
              "      <th>years__2001</th>\n",
              "      <th>years__2002</th>\n",
              "      <th>years__2003</th>\n",
              "      <th>years__2004</th>\n",
              "      <th>years__2005</th>\n",
              "      <th>years__2006</th>\n",
              "      <th>years__2007</th>\n",
              "      <th>years__2008</th>\n",
              "      <th>years__2009</th>\n",
              "      <th>years__2010</th>\n",
              "      <th>years__2011</th>\n",
              "      <th>years__2012</th>\n",
              "      <th>years__2013</th>\n",
              "      <th>years__2014</th>\n",
              "      <th>years__2015</th>\n",
              "      <th>years__2016</th>\n",
              "      <th>years__2017</th>\n",
              "      <th>years__2018</th>\n",
              "      <th>unit_name__11TH</th>\n",
              "      <th>unit_name__12TH</th>\n",
              "      <th>unit_name__14TH</th>\n",
              "      <th>unit_name__15TH</th>\n",
              "      <th>unit_name__16TH</th>\n",
              "      <th>unit_name__17TH</th>\n",
              "      <th>unit_name__18TH</th>\n",
              "      <th>unit_name__19TH</th>\n",
              "      <th>unit_name__1ST</th>\n",
              "      <th>unit_name__20TH</th>\n",
              "      <th>unit_name__22ND</th>\n",
              "      <th>unit_name__24TH</th>\n",
              "      <th>unit_name__25TH</th>\n",
              "      <th>unit_name__2ND</th>\n",
              "      <th>unit_name__3RD</th>\n",
              "      <th>unit_name__4TH</th>\n",
              "      <th>unit_name__5TH</th>\n",
              "      <th>unit_name__6TH</th>\n",
              "      <th>unit_name__7TH</th>\n",
              "      <th>unit_name__8TH</th>\n",
              "      <th>unit_name__9TH</th>\n",
              "      <th>race__Hispanic</th>\n",
              "      <th>race__Native American/Alaskan Native</th>\n",
              "      <th>race__White</th>\n",
              "    </tr>\n",
              "  </thead>\n",
              "  <tbody>\n",
              "    <tr>\n",
              "      <th>701</th>\n",
              "      <td>1.49</td>\n",
              "      <td>0.88</td>\n",
              "      <td>-0.86</td>\n",
              "      <td>-0.87</td>\n",
              "      <td>1.39</td>\n",
              "      <td>0</td>\n",
              "      <td>0</td>\n",
              "      <td>0</td>\n",
              "      <td>0</td>\n",
              "      <td>0</td>\n",
              "      <td>0</td>\n",
              "      <td>0</td>\n",
              "      <td>1</td>\n",
              "      <td>0</td>\n",
              "      <td>0</td>\n",
              "      <td>0</td>\n",
              "      <td>0</td>\n",
              "      <td>0</td>\n",
              "      <td>0</td>\n",
              "      <td>0</td>\n",
              "      <td>0</td>\n",
              "      <td>0</td>\n",
              "      <td>0</td>\n",
              "      <td>0</td>\n",
              "      <td>0</td>\n",
              "      <td>0</td>\n",
              "      <td>0</td>\n",
              "      <td>0</td>\n",
              "      <td>0</td>\n",
              "      <td>0</td>\n",
              "      <td>0</td>\n",
              "      <td>0</td>\n",
              "      <td>0</td>\n",
              "      <td>0</td>\n",
              "      <td>0</td>\n",
              "      <td>0</td>\n",
              "      <td>0</td>\n",
              "      <td>0</td>\n",
              "      <td>0</td>\n",
              "      <td>0</td>\n",
              "      <td>0</td>\n",
              "      <td>1</td>\n",
              "      <td>0</td>\n",
              "      <td>0</td>\n",
              "      <td>0</td>\n",
              "      <td>0</td>\n",
              "      <td>1</td>\n",
              "    </tr>\n",
              "    <tr>\n",
              "      <th>1342</th>\n",
              "      <td>-0.83</td>\n",
              "      <td>-0.87</td>\n",
              "      <td>-0.35</td>\n",
              "      <td>-0.49</td>\n",
              "      <td>-0.84</td>\n",
              "      <td>0</td>\n",
              "      <td>0</td>\n",
              "      <td>0</td>\n",
              "      <td>0</td>\n",
              "      <td>0</td>\n",
              "      <td>0</td>\n",
              "      <td>0</td>\n",
              "      <td>0</td>\n",
              "      <td>0</td>\n",
              "      <td>0</td>\n",
              "      <td>0</td>\n",
              "      <td>0</td>\n",
              "      <td>0</td>\n",
              "      <td>0</td>\n",
              "      <td>0</td>\n",
              "      <td>1</td>\n",
              "      <td>0</td>\n",
              "      <td>0</td>\n",
              "      <td>0</td>\n",
              "      <td>0</td>\n",
              "      <td>0</td>\n",
              "      <td>0</td>\n",
              "      <td>0</td>\n",
              "      <td>0</td>\n",
              "      <td>0</td>\n",
              "      <td>0</td>\n",
              "      <td>0</td>\n",
              "      <td>0</td>\n",
              "      <td>0</td>\n",
              "      <td>0</td>\n",
              "      <td>0</td>\n",
              "      <td>0</td>\n",
              "      <td>0</td>\n",
              "      <td>0</td>\n",
              "      <td>0</td>\n",
              "      <td>0</td>\n",
              "      <td>0</td>\n",
              "      <td>0</td>\n",
              "      <td>1</td>\n",
              "      <td>0</td>\n",
              "      <td>0</td>\n",
              "      <td>0</td>\n",
              "    </tr>\n",
              "    <tr>\n",
              "      <th>556</th>\n",
              "      <td>-0.42</td>\n",
              "      <td>-0.51</td>\n",
              "      <td>0.74</td>\n",
              "      <td>1.98</td>\n",
              "      <td>2.18</td>\n",
              "      <td>0</td>\n",
              "      <td>0</td>\n",
              "      <td>0</td>\n",
              "      <td>0</td>\n",
              "      <td>0</td>\n",
              "      <td>0</td>\n",
              "      <td>1</td>\n",
              "      <td>0</td>\n",
              "      <td>0</td>\n",
              "      <td>0</td>\n",
              "      <td>0</td>\n",
              "      <td>0</td>\n",
              "      <td>0</td>\n",
              "      <td>0</td>\n",
              "      <td>0</td>\n",
              "      <td>0</td>\n",
              "      <td>0</td>\n",
              "      <td>0</td>\n",
              "      <td>1</td>\n",
              "      <td>0</td>\n",
              "      <td>0</td>\n",
              "      <td>0</td>\n",
              "      <td>0</td>\n",
              "      <td>0</td>\n",
              "      <td>0</td>\n",
              "      <td>0</td>\n",
              "      <td>0</td>\n",
              "      <td>0</td>\n",
              "      <td>0</td>\n",
              "      <td>0</td>\n",
              "      <td>0</td>\n",
              "      <td>0</td>\n",
              "      <td>0</td>\n",
              "      <td>0</td>\n",
              "      <td>0</td>\n",
              "      <td>0</td>\n",
              "      <td>0</td>\n",
              "      <td>0</td>\n",
              "      <td>0</td>\n",
              "      <td>0</td>\n",
              "      <td>0</td>\n",
              "      <td>0</td>\n",
              "    </tr>\n",
              "    <tr>\n",
              "      <th>785</th>\n",
              "      <td>0.19</td>\n",
              "      <td>0.03</td>\n",
              "      <td>2.90</td>\n",
              "      <td>1.03</td>\n",
              "      <td>-0.47</td>\n",
              "      <td>0</td>\n",
              "      <td>0</td>\n",
              "      <td>0</td>\n",
              "      <td>0</td>\n",
              "      <td>0</td>\n",
              "      <td>0</td>\n",
              "      <td>0</td>\n",
              "      <td>0</td>\n",
              "      <td>1</td>\n",
              "      <td>0</td>\n",
              "      <td>0</td>\n",
              "      <td>0</td>\n",
              "      <td>0</td>\n",
              "      <td>0</td>\n",
              "      <td>0</td>\n",
              "      <td>0</td>\n",
              "      <td>0</td>\n",
              "      <td>0</td>\n",
              "      <td>0</td>\n",
              "      <td>0</td>\n",
              "      <td>0</td>\n",
              "      <td>0</td>\n",
              "      <td>0</td>\n",
              "      <td>0</td>\n",
              "      <td>0</td>\n",
              "      <td>0</td>\n",
              "      <td>0</td>\n",
              "      <td>0</td>\n",
              "      <td>0</td>\n",
              "      <td>0</td>\n",
              "      <td>0</td>\n",
              "      <td>0</td>\n",
              "      <td>0</td>\n",
              "      <td>0</td>\n",
              "      <td>0</td>\n",
              "      <td>0</td>\n",
              "      <td>0</td>\n",
              "      <td>1</td>\n",
              "      <td>0</td>\n",
              "      <td>1</td>\n",
              "      <td>0</td>\n",
              "      <td>0</td>\n",
              "    </tr>\n",
              "    <tr>\n",
              "      <th>1206</th>\n",
              "      <td>-1.24</td>\n",
              "      <td>-1.25</td>\n",
              "      <td>-0.86</td>\n",
              "      <td>-0.88</td>\n",
              "      <td>-0.99</td>\n",
              "      <td>0</td>\n",
              "      <td>0</td>\n",
              "      <td>0</td>\n",
              "      <td>0</td>\n",
              "      <td>0</td>\n",
              "      <td>0</td>\n",
              "      <td>0</td>\n",
              "      <td>0</td>\n",
              "      <td>0</td>\n",
              "      <td>0</td>\n",
              "      <td>0</td>\n",
              "      <td>0</td>\n",
              "      <td>0</td>\n",
              "      <td>0</td>\n",
              "      <td>1</td>\n",
              "      <td>0</td>\n",
              "      <td>0</td>\n",
              "      <td>0</td>\n",
              "      <td>0</td>\n",
              "      <td>0</td>\n",
              "      <td>0</td>\n",
              "      <td>0</td>\n",
              "      <td>0</td>\n",
              "      <td>1</td>\n",
              "      <td>0</td>\n",
              "      <td>0</td>\n",
              "      <td>0</td>\n",
              "      <td>0</td>\n",
              "      <td>0</td>\n",
              "      <td>0</td>\n",
              "      <td>0</td>\n",
              "      <td>0</td>\n",
              "      <td>0</td>\n",
              "      <td>0</td>\n",
              "      <td>0</td>\n",
              "      <td>0</td>\n",
              "      <td>0</td>\n",
              "      <td>0</td>\n",
              "      <td>0</td>\n",
              "      <td>0</td>\n",
              "      <td>1</td>\n",
              "      <td>0</td>\n",
              "    </tr>\n",
              "    <tr>\n",
              "      <th>...</th>\n",
              "      <td>...</td>\n",
              "      <td>...</td>\n",
              "      <td>...</td>\n",
              "      <td>...</td>\n",
              "      <td>...</td>\n",
              "      <td>...</td>\n",
              "      <td>...</td>\n",
              "      <td>...</td>\n",
              "      <td>...</td>\n",
              "      <td>...</td>\n",
              "      <td>...</td>\n",
              "      <td>...</td>\n",
              "      <td>...</td>\n",
              "      <td>...</td>\n",
              "      <td>...</td>\n",
              "      <td>...</td>\n",
              "      <td>...</td>\n",
              "      <td>...</td>\n",
              "      <td>...</td>\n",
              "      <td>...</td>\n",
              "      <td>...</td>\n",
              "      <td>...</td>\n",
              "      <td>...</td>\n",
              "      <td>...</td>\n",
              "      <td>...</td>\n",
              "      <td>...</td>\n",
              "      <td>...</td>\n",
              "      <td>...</td>\n",
              "      <td>...</td>\n",
              "      <td>...</td>\n",
              "      <td>...</td>\n",
              "      <td>...</td>\n",
              "      <td>...</td>\n",
              "      <td>...</td>\n",
              "      <td>...</td>\n",
              "      <td>...</td>\n",
              "      <td>...</td>\n",
              "      <td>...</td>\n",
              "      <td>...</td>\n",
              "      <td>...</td>\n",
              "      <td>...</td>\n",
              "      <td>...</td>\n",
              "      <td>...</td>\n",
              "      <td>...</td>\n",
              "      <td>...</td>\n",
              "      <td>...</td>\n",
              "      <td>...</td>\n",
              "    </tr>\n",
              "    <tr>\n",
              "      <th>715</th>\n",
              "      <td>-1.24</td>\n",
              "      <td>-1.26</td>\n",
              "      <td>-0.86</td>\n",
              "      <td>-0.88</td>\n",
              "      <td>1.80</td>\n",
              "      <td>0</td>\n",
              "      <td>0</td>\n",
              "      <td>0</td>\n",
              "      <td>0</td>\n",
              "      <td>0</td>\n",
              "      <td>0</td>\n",
              "      <td>0</td>\n",
              "      <td>0</td>\n",
              "      <td>1</td>\n",
              "      <td>0</td>\n",
              "      <td>0</td>\n",
              "      <td>0</td>\n",
              "      <td>0</td>\n",
              "      <td>0</td>\n",
              "      <td>0</td>\n",
              "      <td>0</td>\n",
              "      <td>0</td>\n",
              "      <td>0</td>\n",
              "      <td>1</td>\n",
              "      <td>0</td>\n",
              "      <td>0</td>\n",
              "      <td>0</td>\n",
              "      <td>0</td>\n",
              "      <td>0</td>\n",
              "      <td>0</td>\n",
              "      <td>0</td>\n",
              "      <td>0</td>\n",
              "      <td>0</td>\n",
              "      <td>0</td>\n",
              "      <td>0</td>\n",
              "      <td>0</td>\n",
              "      <td>0</td>\n",
              "      <td>0</td>\n",
              "      <td>0</td>\n",
              "      <td>0</td>\n",
              "      <td>0</td>\n",
              "      <td>0</td>\n",
              "      <td>0</td>\n",
              "      <td>0</td>\n",
              "      <td>0</td>\n",
              "      <td>1</td>\n",
              "      <td>0</td>\n",
              "    </tr>\n",
              "    <tr>\n",
              "      <th>905</th>\n",
              "      <td>-1.20</td>\n",
              "      <td>-1.20</td>\n",
              "      <td>-0.86</td>\n",
              "      <td>-0.88</td>\n",
              "      <td>-0.73</td>\n",
              "      <td>0</td>\n",
              "      <td>0</td>\n",
              "      <td>0</td>\n",
              "      <td>0</td>\n",
              "      <td>0</td>\n",
              "      <td>0</td>\n",
              "      <td>0</td>\n",
              "      <td>0</td>\n",
              "      <td>0</td>\n",
              "      <td>0</td>\n",
              "      <td>1</td>\n",
              "      <td>0</td>\n",
              "      <td>0</td>\n",
              "      <td>0</td>\n",
              "      <td>0</td>\n",
              "      <td>0</td>\n",
              "      <td>0</td>\n",
              "      <td>0</td>\n",
              "      <td>0</td>\n",
              "      <td>0</td>\n",
              "      <td>0</td>\n",
              "      <td>0</td>\n",
              "      <td>0</td>\n",
              "      <td>0</td>\n",
              "      <td>0</td>\n",
              "      <td>0</td>\n",
              "      <td>0</td>\n",
              "      <td>1</td>\n",
              "      <td>0</td>\n",
              "      <td>0</td>\n",
              "      <td>0</td>\n",
              "      <td>0</td>\n",
              "      <td>0</td>\n",
              "      <td>0</td>\n",
              "      <td>0</td>\n",
              "      <td>0</td>\n",
              "      <td>0</td>\n",
              "      <td>0</td>\n",
              "      <td>0</td>\n",
              "      <td>0</td>\n",
              "      <td>1</td>\n",
              "      <td>0</td>\n",
              "    </tr>\n",
              "    <tr>\n",
              "      <th>1096</th>\n",
              "      <td>1.49</td>\n",
              "      <td>0.88</td>\n",
              "      <td>-0.86</td>\n",
              "      <td>-0.87</td>\n",
              "      <td>1.16</td>\n",
              "      <td>0</td>\n",
              "      <td>0</td>\n",
              "      <td>0</td>\n",
              "      <td>0</td>\n",
              "      <td>0</td>\n",
              "      <td>0</td>\n",
              "      <td>0</td>\n",
              "      <td>0</td>\n",
              "      <td>0</td>\n",
              "      <td>0</td>\n",
              "      <td>0</td>\n",
              "      <td>0</td>\n",
              "      <td>1</td>\n",
              "      <td>0</td>\n",
              "      <td>0</td>\n",
              "      <td>0</td>\n",
              "      <td>0</td>\n",
              "      <td>0</td>\n",
              "      <td>0</td>\n",
              "      <td>0</td>\n",
              "      <td>0</td>\n",
              "      <td>0</td>\n",
              "      <td>0</td>\n",
              "      <td>0</td>\n",
              "      <td>0</td>\n",
              "      <td>0</td>\n",
              "      <td>0</td>\n",
              "      <td>0</td>\n",
              "      <td>0</td>\n",
              "      <td>0</td>\n",
              "      <td>0</td>\n",
              "      <td>0</td>\n",
              "      <td>0</td>\n",
              "      <td>0</td>\n",
              "      <td>0</td>\n",
              "      <td>0</td>\n",
              "      <td>1</td>\n",
              "      <td>0</td>\n",
              "      <td>0</td>\n",
              "      <td>0</td>\n",
              "      <td>0</td>\n",
              "      <td>1</td>\n",
              "    </tr>\n",
              "    <tr>\n",
              "      <th>235</th>\n",
              "      <td>-0.83</td>\n",
              "      <td>-0.87</td>\n",
              "      <td>-0.35</td>\n",
              "      <td>-0.49</td>\n",
              "      <td>-0.43</td>\n",
              "      <td>0</td>\n",
              "      <td>1</td>\n",
              "      <td>0</td>\n",
              "      <td>0</td>\n",
              "      <td>0</td>\n",
              "      <td>0</td>\n",
              "      <td>0</td>\n",
              "      <td>0</td>\n",
              "      <td>0</td>\n",
              "      <td>0</td>\n",
              "      <td>0</td>\n",
              "      <td>0</td>\n",
              "      <td>0</td>\n",
              "      <td>0</td>\n",
              "      <td>0</td>\n",
              "      <td>0</td>\n",
              "      <td>0</td>\n",
              "      <td>0</td>\n",
              "      <td>0</td>\n",
              "      <td>0</td>\n",
              "      <td>0</td>\n",
              "      <td>0</td>\n",
              "      <td>0</td>\n",
              "      <td>0</td>\n",
              "      <td>0</td>\n",
              "      <td>0</td>\n",
              "      <td>0</td>\n",
              "      <td>0</td>\n",
              "      <td>0</td>\n",
              "      <td>0</td>\n",
              "      <td>0</td>\n",
              "      <td>0</td>\n",
              "      <td>0</td>\n",
              "      <td>0</td>\n",
              "      <td>0</td>\n",
              "      <td>0</td>\n",
              "      <td>0</td>\n",
              "      <td>0</td>\n",
              "      <td>1</td>\n",
              "      <td>0</td>\n",
              "      <td>0</td>\n",
              "      <td>0</td>\n",
              "    </tr>\n",
              "    <tr>\n",
              "      <th>1061</th>\n",
              "      <td>-1.24</td>\n",
              "      <td>-1.25</td>\n",
              "      <td>-0.86</td>\n",
              "      <td>-0.88</td>\n",
              "      <td>1.17</td>\n",
              "      <td>0</td>\n",
              "      <td>0</td>\n",
              "      <td>0</td>\n",
              "      <td>0</td>\n",
              "      <td>0</td>\n",
              "      <td>0</td>\n",
              "      <td>0</td>\n",
              "      <td>0</td>\n",
              "      <td>0</td>\n",
              "      <td>0</td>\n",
              "      <td>0</td>\n",
              "      <td>0</td>\n",
              "      <td>1</td>\n",
              "      <td>0</td>\n",
              "      <td>0</td>\n",
              "      <td>0</td>\n",
              "      <td>0</td>\n",
              "      <td>0</td>\n",
              "      <td>0</td>\n",
              "      <td>0</td>\n",
              "      <td>0</td>\n",
              "      <td>0</td>\n",
              "      <td>0</td>\n",
              "      <td>0</td>\n",
              "      <td>0</td>\n",
              "      <td>0</td>\n",
              "      <td>1</td>\n",
              "      <td>0</td>\n",
              "      <td>0</td>\n",
              "      <td>0</td>\n",
              "      <td>0</td>\n",
              "      <td>0</td>\n",
              "      <td>0</td>\n",
              "      <td>0</td>\n",
              "      <td>0</td>\n",
              "      <td>0</td>\n",
              "      <td>0</td>\n",
              "      <td>0</td>\n",
              "      <td>0</td>\n",
              "      <td>0</td>\n",
              "      <td>1</td>\n",
              "      <td>0</td>\n",
              "    </tr>\n",
              "  </tbody>\n",
              "</table>\n",
              "<p>1200 rows × 47 columns</p>\n",
              "</div>\n",
              "      <button class=\"colab-df-convert\" onclick=\"convertToInteractive('df-d53adff6-ff69-4e6f-9126-ad7791ddd980')\"\n",
              "              title=\"Convert this dataframe to an interactive table.\"\n",
              "              style=\"display:none;\">\n",
              "        \n",
              "  <svg xmlns=\"http://www.w3.org/2000/svg\" height=\"24px\"viewBox=\"0 0 24 24\"\n",
              "       width=\"24px\">\n",
              "    <path d=\"M0 0h24v24H0V0z\" fill=\"none\"/>\n",
              "    <path d=\"M18.56 5.44l.94 2.06.94-2.06 2.06-.94-2.06-.94-.94-2.06-.94 2.06-2.06.94zm-11 1L8.5 8.5l.94-2.06 2.06-.94-2.06-.94L8.5 2.5l-.94 2.06-2.06.94zm10 10l.94 2.06.94-2.06 2.06-.94-2.06-.94-.94-2.06-.94 2.06-2.06.94z\"/><path d=\"M17.41 7.96l-1.37-1.37c-.4-.4-.92-.59-1.43-.59-.52 0-1.04.2-1.43.59L10.3 9.45l-7.72 7.72c-.78.78-.78 2.05 0 2.83L4 21.41c.39.39.9.59 1.41.59.51 0 1.02-.2 1.41-.59l7.78-7.78 2.81-2.81c.8-.78.8-2.07 0-2.86zM5.41 20L4 18.59l7.72-7.72 1.47 1.35L5.41 20z\"/>\n",
              "  </svg>\n",
              "      </button>\n",
              "      \n",
              "  <style>\n",
              "    .colab-df-container {\n",
              "      display:flex;\n",
              "      flex-wrap:wrap;\n",
              "      gap: 12px;\n",
              "    }\n",
              "\n",
              "    .colab-df-convert {\n",
              "      background-color: #E8F0FE;\n",
              "      border: none;\n",
              "      border-radius: 50%;\n",
              "      cursor: pointer;\n",
              "      display: none;\n",
              "      fill: #1967D2;\n",
              "      height: 32px;\n",
              "      padding: 0 0 0 0;\n",
              "      width: 32px;\n",
              "    }\n",
              "\n",
              "    .colab-df-convert:hover {\n",
              "      background-color: #E2EBFA;\n",
              "      box-shadow: 0px 1px 2px rgba(60, 64, 67, 0.3), 0px 1px 3px 1px rgba(60, 64, 67, 0.15);\n",
              "      fill: #174EA6;\n",
              "    }\n",
              "\n",
              "    [theme=dark] .colab-df-convert {\n",
              "      background-color: #3B4455;\n",
              "      fill: #D2E3FC;\n",
              "    }\n",
              "\n",
              "    [theme=dark] .colab-df-convert:hover {\n",
              "      background-color: #434B5C;\n",
              "      box-shadow: 0px 1px 3px 1px rgba(0, 0, 0, 0.15);\n",
              "      filter: drop-shadow(0px 1px 2px rgba(0, 0, 0, 0.3));\n",
              "      fill: #FFFFFF;\n",
              "    }\n",
              "  </style>\n",
              "\n",
              "      <script>\n",
              "        const buttonEl =\n",
              "          document.querySelector('#df-d53adff6-ff69-4e6f-9126-ad7791ddd980 button.colab-df-convert');\n",
              "        buttonEl.style.display =\n",
              "          google.colab.kernel.accessAllowed ? 'block' : 'none';\n",
              "\n",
              "        async function convertToInteractive(key) {\n",
              "          const element = document.querySelector('#df-d53adff6-ff69-4e6f-9126-ad7791ddd980');\n",
              "          const dataTable =\n",
              "            await google.colab.kernel.invokeFunction('convertToInteractive',\n",
              "                                                     [key], {});\n",
              "          if (!dataTable) return;\n",
              "\n",
              "          const docLinkHtml = 'Like what you see? Visit the ' +\n",
              "            '<a target=\"_blank\" href=https://colab.research.google.com/notebooks/data_table.ipynb>data table notebook</a>'\n",
              "            + ' to learn more about interactive tables.';\n",
              "          element.innerHTML = '';\n",
              "          dataTable['output_type'] = 'display_data';\n",
              "          await google.colab.output.renderOutput(dataTable, element);\n",
              "          const docLink = document.createElement('div');\n",
              "          docLink.innerHTML = docLinkHtml;\n",
              "          element.appendChild(docLink);\n",
              "        }\n",
              "      </script>\n",
              "    </div>\n",
              "  </div>\n",
              "  "
            ]
          },
          "metadata": {},
          "execution_count": 244
        }
      ]
    },
    {
      "cell_type": "code",
      "source": [
        "y_train"
      ],
      "metadata": {
        "colab": {
          "base_uri": "https://localhost:8080/",
          "height": 0
        },
        "id": "_neMM2upAe_e",
        "outputId": "a3dd8151-3440-4820-bd0b-6e574f229866"
      },
      "execution_count": 245,
      "outputs": [
        {
          "output_type": "execute_result",
          "data": {
            "text/plain": [
              "      total_num_officers\n",
              "701                  451\n",
              "1342                 374\n",
              "556                  389\n",
              "785                  393\n",
              "1206                 271\n",
              "...                  ...\n",
              "715                  389\n",
              "905                  283\n",
              "1096                 451\n",
              "235                  374\n",
              "1061                 317\n",
              "\n",
              "[1200 rows x 1 columns]"
            ],
            "text/html": [
              "\n",
              "  <div id=\"df-77870265-b6a0-46cb-9d49-5b61028a5db6\">\n",
              "    <div class=\"colab-df-container\">\n",
              "      <div>\n",
              "<style scoped>\n",
              "    .dataframe tbody tr th:only-of-type {\n",
              "        vertical-align: middle;\n",
              "    }\n",
              "\n",
              "    .dataframe tbody tr th {\n",
              "        vertical-align: top;\n",
              "    }\n",
              "\n",
              "    .dataframe thead th {\n",
              "        text-align: right;\n",
              "    }\n",
              "</style>\n",
              "<table border=\"1\" class=\"dataframe\">\n",
              "  <thead>\n",
              "    <tr style=\"text-align: right;\">\n",
              "      <th></th>\n",
              "      <th>total_num_officers</th>\n",
              "    </tr>\n",
              "  </thead>\n",
              "  <tbody>\n",
              "    <tr>\n",
              "      <th>701</th>\n",
              "      <td>451</td>\n",
              "    </tr>\n",
              "    <tr>\n",
              "      <th>1342</th>\n",
              "      <td>374</td>\n",
              "    </tr>\n",
              "    <tr>\n",
              "      <th>556</th>\n",
              "      <td>389</td>\n",
              "    </tr>\n",
              "    <tr>\n",
              "      <th>785</th>\n",
              "      <td>393</td>\n",
              "    </tr>\n",
              "    <tr>\n",
              "      <th>1206</th>\n",
              "      <td>271</td>\n",
              "    </tr>\n",
              "    <tr>\n",
              "      <th>...</th>\n",
              "      <td>...</td>\n",
              "    </tr>\n",
              "    <tr>\n",
              "      <th>715</th>\n",
              "      <td>389</td>\n",
              "    </tr>\n",
              "    <tr>\n",
              "      <th>905</th>\n",
              "      <td>283</td>\n",
              "    </tr>\n",
              "    <tr>\n",
              "      <th>1096</th>\n",
              "      <td>451</td>\n",
              "    </tr>\n",
              "    <tr>\n",
              "      <th>235</th>\n",
              "      <td>374</td>\n",
              "    </tr>\n",
              "    <tr>\n",
              "      <th>1061</th>\n",
              "      <td>317</td>\n",
              "    </tr>\n",
              "  </tbody>\n",
              "</table>\n",
              "<p>1200 rows × 1 columns</p>\n",
              "</div>\n",
              "      <button class=\"colab-df-convert\" onclick=\"convertToInteractive('df-77870265-b6a0-46cb-9d49-5b61028a5db6')\"\n",
              "              title=\"Convert this dataframe to an interactive table.\"\n",
              "              style=\"display:none;\">\n",
              "        \n",
              "  <svg xmlns=\"http://www.w3.org/2000/svg\" height=\"24px\"viewBox=\"0 0 24 24\"\n",
              "       width=\"24px\">\n",
              "    <path d=\"M0 0h24v24H0V0z\" fill=\"none\"/>\n",
              "    <path d=\"M18.56 5.44l.94 2.06.94-2.06 2.06-.94-2.06-.94-.94-2.06-.94 2.06-2.06.94zm-11 1L8.5 8.5l.94-2.06 2.06-.94-2.06-.94L8.5 2.5l-.94 2.06-2.06.94zm10 10l.94 2.06.94-2.06 2.06-.94-2.06-.94-.94-2.06-.94 2.06-2.06.94z\"/><path d=\"M17.41 7.96l-1.37-1.37c-.4-.4-.92-.59-1.43-.59-.52 0-1.04.2-1.43.59L10.3 9.45l-7.72 7.72c-.78.78-.78 2.05 0 2.83L4 21.41c.39.39.9.59 1.41.59.51 0 1.02-.2 1.41-.59l7.78-7.78 2.81-2.81c.8-.78.8-2.07 0-2.86zM5.41 20L4 18.59l7.72-7.72 1.47 1.35L5.41 20z\"/>\n",
              "  </svg>\n",
              "      </button>\n",
              "      \n",
              "  <style>\n",
              "    .colab-df-container {\n",
              "      display:flex;\n",
              "      flex-wrap:wrap;\n",
              "      gap: 12px;\n",
              "    }\n",
              "\n",
              "    .colab-df-convert {\n",
              "      background-color: #E8F0FE;\n",
              "      border: none;\n",
              "      border-radius: 50%;\n",
              "      cursor: pointer;\n",
              "      display: none;\n",
              "      fill: #1967D2;\n",
              "      height: 32px;\n",
              "      padding: 0 0 0 0;\n",
              "      width: 32px;\n",
              "    }\n",
              "\n",
              "    .colab-df-convert:hover {\n",
              "      background-color: #E2EBFA;\n",
              "      box-shadow: 0px 1px 2px rgba(60, 64, 67, 0.3), 0px 1px 3px 1px rgba(60, 64, 67, 0.15);\n",
              "      fill: #174EA6;\n",
              "    }\n",
              "\n",
              "    [theme=dark] .colab-df-convert {\n",
              "      background-color: #3B4455;\n",
              "      fill: #D2E3FC;\n",
              "    }\n",
              "\n",
              "    [theme=dark] .colab-df-convert:hover {\n",
              "      background-color: #434B5C;\n",
              "      box-shadow: 0px 1px 3px 1px rgba(0, 0, 0, 0.15);\n",
              "      filter: drop-shadow(0px 1px 2px rgba(0, 0, 0, 0.3));\n",
              "      fill: #FFFFFF;\n",
              "    }\n",
              "  </style>\n",
              "\n",
              "      <script>\n",
              "        const buttonEl =\n",
              "          document.querySelector('#df-77870265-b6a0-46cb-9d49-5b61028a5db6 button.colab-df-convert');\n",
              "        buttonEl.style.display =\n",
              "          google.colab.kernel.accessAllowed ? 'block' : 'none';\n",
              "\n",
              "        async function convertToInteractive(key) {\n",
              "          const element = document.querySelector('#df-77870265-b6a0-46cb-9d49-5b61028a5db6');\n",
              "          const dataTable =\n",
              "            await google.colab.kernel.invokeFunction('convertToInteractive',\n",
              "                                                     [key], {});\n",
              "          if (!dataTable) return;\n",
              "\n",
              "          const docLinkHtml = 'Like what you see? Visit the ' +\n",
              "            '<a target=\"_blank\" href=https://colab.research.google.com/notebooks/data_table.ipynb>data table notebook</a>'\n",
              "            + ' to learn more about interactive tables.';\n",
              "          element.innerHTML = '';\n",
              "          dataTable['output_type'] = 'display_data';\n",
              "          await google.colab.output.renderOutput(dataTable, element);\n",
              "          const docLink = document.createElement('div');\n",
              "          docLink.innerHTML = docLinkHtml;\n",
              "          element.appendChild(docLink);\n",
              "        }\n",
              "      </script>\n",
              "    </div>\n",
              "  </div>\n",
              "  "
            ]
          },
          "metadata": {},
          "execution_count": 245
        }
      ]
    },
    {
      "cell_type": "code",
      "source": [
        "# plotting mean test and train scoes with alpha \n",
        "import operator\n",
        "def plotCvResults(model_cv):\n",
        "    cv_results = pd.DataFrame(model_cv.cv_results_)\n",
        "    cv_results['param_alpha'] = cv_results['param_alpha'].astype('int32')\n",
        "    plt.plot(np.log1p(cv_results['param_alpha']), cv_results['mean_train_score'])\n",
        "    plt.plot(np.log1p(cv_results['param_alpha']), cv_results['mean_test_score'])\n",
        "    plt.xlabel('log1p(alpha)')\n",
        "    plt.ylabel('Negative Mean Absolute Error')\n",
        "    plt.title(\"Negative Mean Absolute Error and log1p(alpha)\")\n",
        "    plt.legend(['train score', 'test score'], loc='upper left')\n",
        "    plt.show()\n",
        "\n",
        "# display parameters\n",
        "def bestParams(model):\n",
        "    print(\"Best Alpha for Regularized Regression:\",model.get_params()['alpha'])\n",
        "    model_parameters = [abs(x) for x in list(model.coef_)]\n",
        "    model_parameters.insert(0, model.intercept_)\n",
        "    model_parameters = [round(x, 3) for x in model_parameters]\n",
        "    cols = X_train_rfe.columns\n",
        "    cols = cols.insert(0, \"constant\")\n",
        "    model_coef = sorted(list(zip(cols, model_parameters)), key=operator.itemgetter(1), reverse=True)[:11]\n",
        "    print(\"Top 10 Model parameters (excluding constant) are:\")\n",
        "    for p,c in model_coef:\n",
        "        print(p)\n",
        "        \n",
        "def modelR2AndSpread(model):\n",
        "    y_train_pred = model.predict(X_train_rfe)\n",
        "    print(\"Train r2:\",skm.r2_score(y_true=y_train, y_pred=y_train_pred))\n",
        "    y_test_pred = model.predict(X_test_rfe)\n",
        "    print(\"Test r2:\",skm.r2_score(y_true=y_test, y_pred=y_test_pred))\n",
        "    print('Root Mean Square Error train: ' + str(np.sqrt(skm.mean_squared_error(y_train, y_train_pred))))\n",
        "    print('Root Mean Square Error test: ' + str(np.sqrt(skm.mean_squared_error(y_test, y_test_pred)))) \n",
        "\n",
        "    fig = plt.figure(figsize=(16,10))\n",
        "    plt.suptitle(\"Linear Regression Assumptions\", fontsize = 16)\n",
        "\n",
        "    # plot error spread\n",
        "    fig.add_subplot(2, 2, 1)\n",
        "    sns.regplot(y_train, y_train_pred)\n",
        "    plt.title('y_train vs y_train_pred spread', fontsize = 14)\n",
        "    plt.xlabel('y_train', fontsize = 12)\n",
        "    plt.ylabel('y_train_pred', fontsize = 12)      \n",
        "\n",
        "    fig.add_subplot(2, 2, 2)\n",
        "    sns.regplot(y_test, y_test_pred)\n",
        "    plt.title('y_test vs y_test_pred spread', fontsize = 14)\n",
        "    plt.xlabel('y_test', fontsize = 12)\n",
        "    plt.ylabel('y_test_pred', fontsize = 12)      \n",
        "\n",
        "    # plot residuals for linear regression assumption\n",
        "    residuals_train = y_train - y_train_pred\n",
        "    fig = plt.figure(figsize=(16,6))\n",
        "    fig.add_subplot(2, 2, 3)\n",
        "    sns.distplot(residuals_train)\n",
        "    plt.title('residuals between y_train & y_train_pred', fontsize = 14)\n",
        "    plt.xlabel('residuals', fontsize = 12)\n",
        "\n",
        "    fig.add_subplot(2, 2, 4)\n",
        "    residuals_test = y_test - y_test_pred\n",
        "    sns.distplot(residuals_train)\n",
        "    plt.title('residuals between y_test & y_test_pred', fontsize = 14)\n",
        "    plt.xlabel('residuals', fontsize = 12)\n",
        "    plt.show()"
      ],
      "metadata": {
        "id": "KhCFpKtUBl1f"
      },
      "execution_count": 246,
      "outputs": []
    },
    {
      "cell_type": "code",
      "source": [],
      "metadata": {
        "id": "393GkqXlMLrW"
      },
      "execution_count": 246,
      "outputs": []
    },
    {
      "cell_type": "markdown",
      "source": [
        "## Ridge Regression"
      ],
      "metadata": {
        "id": "2TV1umt9MNHE"
      }
    },
    {
      "cell_type": "code",
      "source": [
        "lmr = sklm.Ridge(alpha=0.001)\n",
        "lmr.fit(X_train_rfe, y_train)\n",
        "\n",
        "# predict\n",
        "y_train_pred = lmr.predict(X_train_rfe)\n",
        "print(\"Train r2:\",skm.r2_score(y_true=y_train, y_pred=y_train_pred))\n",
        "y_test_pred = lmr.predict(X_test_rfe)\n",
        "print(\"Test r2:\",skm.r2_score(y_true=y_test, y_pred=y_test_pred))"
      ],
      "metadata": {
        "colab": {
          "base_uri": "https://localhost:8080/"
        },
        "id": "Ot56GUGFMO3u",
        "outputId": "3f8bb706-511d-4736-9158-788b8d818ba1"
      },
      "execution_count": 247,
      "outputs": [
        {
          "output_type": "stream",
          "name": "stdout",
          "text": [
            "Train r2: 0.9999999992136333\n",
            "Test r2: 0.9999999991647844\n"
          ]
        }
      ]
    },
    {
      "cell_type": "code",
      "source": [
        "# list of alphas to tune\n",
        "params = {'alpha': [0.0001, 0.001, 0.005, 0.01, 0.03, 0.05, 0.1, 0.5, 1.0, 5.0, 10]}\n",
        "ridge = sklm.Ridge()\n",
        "\n",
        "# cross validation\n",
        "model_cv_ridge = skms.GridSearchCV(estimator = ridge, n_jobs=-1, param_grid = params, \n",
        "                             scoring= 'neg_mean_squared_error', cv = 5, \n",
        "                             return_train_score=True, verbose = 3)            \n",
        "model_cv_ridge.fit(X_train_rfe, y_train)\n",
        "plotCvResults(model_cv_ridge)"
      ],
      "metadata": {
        "colab": {
          "base_uri": "https://localhost:8080/",
          "height": 0
        },
        "id": "OqBFkxfIMSaT",
        "outputId": "4e46419f-c222-4355-afe0-4b64d14685c4"
      },
      "execution_count": 248,
      "outputs": [
        {
          "output_type": "stream",
          "name": "stdout",
          "text": [
            "Fitting 5 folds for each of 11 candidates, totalling 55 fits\n"
          ]
        },
        {
          "output_type": "display_data",
          "data": {
            "text/plain": [
              "<Figure size 864x576 with 1 Axes>"
            ],
            "image/png": "[encoded data removed]"
          },
          "metadata": {}
        }
      ]
    },
    {
      "cell_type": "code",
      "source": [
        "# verify log1p value for best selected alpha by GridSearch\n",
        "print(model_cv_ridge.best_params_['alpha'])\n",
        "print(np.log1p(model_cv_ridge.best_params_['alpha']))"
      ],
      "metadata": {
        "colab": {
          "base_uri": "https://localhost:8080/"
        },
        "id": "SRonnZpiMbSw",
        "outputId": "cca10497-8330-4c79-bb15-39097e1791f4"
      },
      "execution_count": 249,
      "outputs": [
        {
          "output_type": "stream",
          "name": "stdout",
          "text": [
            "0.0001\n",
            "9.999500033330834e-05\n"
          ]
        }
      ]
    },
    {
      "cell_type": "markdown",
      "source": [
        "## Lasso regression"
      ],
      "metadata": {
        "id": "iWEk8toSMsh8"
      }
    },
    {
      "cell_type": "code",
      "source": [
        "lml = sklm.Lasso(alpha=0.01)\n",
        "lml.fit(X_train_rfe, y_train)\n",
        "\n",
        "# predict\n",
        "y_train_pred = lml.predict(X_train_rfe)\n",
        "print(\"Train r2:\",skm.r2_score(y_true=y_train, y_pred=y_train_pred))\n",
        "y_test_pred = lml.predict(X_test_rfe)\n",
        "print(\"Test r2:\",skm.r2_score(y_true=y_test, y_pred=y_test_pred))"
      ],
      "metadata": {
        "colab": {
          "base_uri": "https://localhost:8080/"
        },
        "id": "qJMvQIq8M67G",
        "outputId": "b66de4e8-b625-4ea6-fe65-ccf325636c9a"
      },
      "execution_count": 250,
      "outputs": [
        {
          "output_type": "stream",
          "name": "stdout",
          "text": [
            "Train r2: 0.999965771900081\n",
            "Test r2: 0.9999631590265303\n"
          ]
        }
      ]
    },
    {
      "cell_type": "code",
      "source": [
        "# list of alphas to tune\n",
        "params = {'alpha': [0.00005, 0.0001, 0.0005, 0.0008, 0.001, 0.005, 0.01, 0.05, 0.1]}\n",
        "lasso = sklm.Lasso()\n",
        "\n",
        "# cross validation\n",
        "model_cv_lasso = skms.GridSearchCV(estimator = lasso, n_jobs=-1, param_grid = params, \n",
        "                             scoring= 'neg_mean_squared_error', cv = 5, \n",
        "                             return_train_score=True, verbose = 3)            \n",
        "model_cv_lasso.fit(X_train_rfe, y_train)\n",
        "plotCvResults(model_cv_lasso)"
      ],
      "metadata": {
        "colab": {
          "base_uri": "https://localhost:8080/",
          "height": 0
        },
        "id": "zgkJJASCNB5H",
        "outputId": "13d049db-f461-45cd-c3ee-43096efb1dd0"
      },
      "execution_count": 251,
      "outputs": [
        {
          "output_type": "stream",
          "name": "stdout",
          "text": [
            "Fitting 5 folds for each of 9 candidates, totalling 45 fits\n"
          ]
        },
        {
          "output_type": "display_data",
          "data": {
            "text/plain": [
              "<Figure size 864x576 with 1 Axes>"
            ],
            "image/png": "[encoded data removed]"
          },
          "metadata": {}
        }
      ]
    },
    {
      "cell_type": "code",
      "source": [
        "# verify log1p value for best selected alpha by GridSearch\n",
        "print(model_cv_lasso.best_params_['alpha'])\n",
        "print(np.log1p(model_cv_lasso.best_params_['alpha']))"
      ],
      "metadata": {
        "colab": {
          "base_uri": "https://localhost:8080/"
        },
        "id": "vxjCX3q-NGzi",
        "outputId": "b3c78b93-5b84-48e3-8a51-c79bc6edad56"
      },
      "execution_count": 252,
      "outputs": [
        {
          "output_type": "stream",
          "name": "stdout",
          "text": [
            "0.0005\n",
            "0.000499875041651048\n"
          ]
        }
      ]
    },
    {
      "cell_type": "markdown",
      "source": [
        "## Model Evaluation"
      ],
      "metadata": {
        "id": "72HQI-zaNVSV"
      }
    },
    {
      "cell_type": "code",
      "source": [
        "# Ridge\n",
        "alpha = model_cv_ridge.best_params_['alpha']\n",
        "ridge_final = sklm.Ridge(alpha=alpha)\n",
        "\n",
        "ridge_final.fit(X_train_rfe, y_train)\n",
        "# bestParams(ridge_final)"
      ],
      "metadata": {
        "colab": {
          "base_uri": "https://localhost:8080/"
        },
        "id": "gTQJbNMCNK-U",
        "outputId": "65361e7d-2a6f-4a05-ddb7-eef4fa3f531d"
      },
      "execution_count": 253,
      "outputs": [
        {
          "output_type": "execute_result",
          "data": {
            "text/plain": [
              "Ridge(alpha=0.0001)"
            ]
          },
          "metadata": {},
          "execution_count": 253
        }
      ]
    },
    {
      "cell_type": "code",
      "source": [
        "# r2 score for selected model\n",
        "modelR2AndSpread(ridge_final)"
      ],
      "metadata": {
        "colab": {
          "base_uri": "https://localhost:8080/",
          "height": 664
        },
        "id": "1ikc-nzZOKFP",
        "outputId": "5ca99cfa-79e3-4bf2-9052-fbb902c0bb66"
      },
      "execution_count": 254,
      "outputs": [
        {
          "output_type": "stream",
          "name": "stdout",
          "text": [
            "Train r2: 0.999999999992132\n",
            "Test r2: 0.9999999999916434\n",
            "Root Mean Square Error train: 0.00013777948094822746\n",
            "Root Mean Square Error test: 0.00013643400828810458\n"
          ]
        },
        {
          "output_type": "display_data",
          "data": {
            "text/plain": [
              "<Figure size 1152x720 with 2 Axes>"
            ],
            "image/png": "[encoded data removed]"
          },
          "metadata": {}
        },
        {
          "output_type": "display_data",
          "data": {
            "text/plain": [
              "<Figure size 1152x432 with 2 Axes>"
            ],
            "image/png": "[encoded data removed]"
          },
          "metadata": {}
        }
      ]
    }
  ]
}